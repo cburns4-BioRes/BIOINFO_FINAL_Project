{
 "cells": [
  {
   "cell_type": "markdown",
   "metadata": {},
   "source": [
    "## PREREQUISITES:"
   ]
  },
  {
   "cell_type": "markdown",
   "metadata": {},
   "source": [
    "It is assumed that you are working through Jupyter Notebook/Lab. You need to set up a python environment in order to download ODDT. "
   ]
  },
  {
   "cell_type": "markdown",
   "metadata": {},
   "source": [
    "### Download Open Drug Discovery Toolkit\n"
   ]
  },
  {
   "cell_type": "code",
   "execution_count": null,
   "metadata": {},
   "outputs": [],
   "source": [
    "%%bash\n",
    "conda install -c oddt oddt rdkit openbabel"
   ]
  },
  {
   "cell_type": "markdown",
   "metadata": {},
   "source": [
    "### Download wget"
   ]
  },
  {
   "cell_type": "code",
   "execution_count": null,
   "metadata": {},
   "outputs": [],
   "source": [
    "%%bash\n",
    "conda install -c anaconda wget "
   ]
  },
  {
   "cell_type": "markdown",
   "metadata": {},
   "source": [
    "### Download autodock vina"
   ]
  },
  {
   "cell_type": "code",
   "execution_count": null,
   "metadata": {},
   "outputs": [],
   "source": [
    "%%bash\n",
    "sudo apt install autodock-vina"
   ]
  },
  {
   "cell_type": "markdown",
   "metadata": {},
   "source": [
    "### Download Glob2"
   ]
  },
  {
   "cell_type": "code",
   "execution_count": null,
   "metadata": {},
   "outputs": [],
   "source": [
    "%%bash\n",
    "conda install -c anaconda glob2 "
   ]
  },
  {
   "cell_type": "markdown",
   "metadata": {},
   "source": [
    "### Download mxltend"
   ]
  },
  {
   "cell_type": "code",
   "execution_count": null,
   "metadata": {},
   "outputs": [],
   "source": [
    "%%bash\n",
    "conda install -c conda-forge mlxtend "
   ]
  },
  {
   "cell_type": "markdown",
   "metadata": {},
   "source": [
    "## VIRTUAL DRUG SCREENING"
   ]
  },
  {
   "cell_type": "markdown",
   "metadata": {},
   "source": [
    "### Download and Save Neurotransmitters 3D structure"
   ]
  },
  {
   "cell_type": "markdown",
   "metadata": {},
   "source": [
    "#### Download and rename the following Chemical Structures from Chemspyder"
   ]
  },
  {
   "cell_type": "markdown",
   "metadata": {},
   "source": [
    "*Neurotransmitters:*\n",
    "\n",
    "Dopamine\n",
    "Epinephrine\n",
    "GABA\n",
    "Glutamate\n",
    "Histamine\n",
    "Norepinephrine\n",
    "Serotonin\n",
    "Octopamine\n",
    "Synephrine\n",
    "Tryptamine\n",
    "N-methyltryptamine\n",
    "Anandamide\n",
    "2-Arachidonoylglycerol\n",
    "2-Arachidonyl glyceryl ether\n",
    "N-Arachidonoyl dopamine\n",
    "Virodhamine\n",
    "Nicotinamide adenine dinucleotide\n",
    "\n",
    "*Neuropeptides:*\n",
    "\n",
    "Bradykinin\n",
    "Urocortin\n",
    "Gastrin\n",
    "Cholecystokinin\n",
    "Proopiomelanocortin\n",
    "Secretin\n",
    "Vasoactive intestinal peptide\n",
    "Growth hormone–releasing hormone\n",
    "Somatostatin\n",
    "Neurokinin A\n",
    "Neurokinin B"
   ]
  },
  {
   "cell_type": "markdown",
   "metadata": {},
   "source": [
    "### Adjust Chemical Structure Files"
   ]
  },
  {
   "cell_type": "code",
   "execution_count": null,
   "metadata": {},
   "outputs": [],
   "source": [
    "%%bash\n",
    "#Neurotransmitters:\n",
    "babel -imol Dopamine.mol -omol2 Dopamine.mol2\n",
    "babel -imol Epinephrine.mol -omol2 Epinephrine.mol2\n",
    "babel -imol GABA.mol -omol2 GABA.mol2\n",
    "babel -imol Glutamate.mol -omol2 Glutamate.mol2\n",
    "babel -imol Histamine.mol -omol2 Histamine.mol2\n",
    "babel -imol Norepinephrine.mol -omol2 Norepinephrine.mol2\n",
    "babel -imol Serotonin.mol -omol2 Serotonin.mol2\n",
    "babel -imol Octopamine.mol -omol2 Octopamine.mol2\n",
    "babel -imol Synephrine.mol -omol2 Synephrine.mol2\n",
    "babel -imol Tryptamine.mol -omol2 Tryptamine.mol2\n",
    "babel -imol Nmethyltryptamine.mol -omol2 Nmethyltryptamine.mol2\n",
    "babel -imol Anandamide.mol -omol2 Anandamide.mol2\n",
    "babel -imol 2Arachidonoylglycerol.mol -omol2 2Arachidonoylglycerol.mol2\n",
    "babel -imol 2Arachidonylglycerylether.mol -omol2 2Arachidonylglycerylether.mol2\n",
    "babel -imol NArachidonoyldopamine.mol -omol2 NArachidonoyldopamine.mol2\n",
    "babel -imol Virodhamine.mol -omol2 Virodhamine.mol2\n",
    "babel -imol Nicotinamideadeninedinucleotide.mol -omol2 Nicotinamideadeninedinucleotide.mol2\n",
    "\n",
    "#Neuropeptides:\n",
    "babel -imol Bradykinin.mol -omol2 Bradykinin.mol2\n",
    "babel -imol Urocortin.mol -omol2 Urocortin.mol2\n",
    "babel -imol Gastrin.mol -omol2 Gastrin.mol2\n",
    "babel -imol Cholecystokinin.mol -omol2 Cholecystokinin.mol2\n",
    "babel -imol GHRP6.mol -omol2 GHRP6.mol2\n",
    "babel -imol Somatostatin.mol -omol2 Somatostatin.mol2\n",
    "babel -imol NeurokininA.mol -omol2 NeurokininA.mol2\n",
    "babel -imol NeurokininB.mol -omol2 NeurokininB.mol2"
   ]
  },
  {
   "cell_type": "markdown",
   "metadata": {},
   "source": [
    "### Ligand List"
   ]
  },
  {
   "cell_type": "code",
   "execution_count": null,
   "metadata": {},
   "outputs": [],
   "source": [
    "Dopamine.mol2\n",
    "Epinephrine.mol2\n",
    "GABA.mol2\n",
    "Glutamate.mol2\n",
    "Histamine.mol2\n",
    "Norepinephrine.mol2\n",
    "Serotonin.mol2\n",
    "Octopamine.mol2\n",
    "Synephrine.mol2\n",
    "Tryptamine.mol2\n",
    "Nmethyltryptamine.mol2\n",
    "Anandamide.mol2\n",
    "2Arachidonoylglycerol.mol2\n",
    "2Arachidonylglycerylether.mol2\n",
    "NArachidonoyldopamine.mol2\n",
    "Virodhamine.mol2\n",
    "Nicotinamideadeninedinucleotide.mol2\n",
    "Bradykinin.mol2\n",
    "Urocortin.mol2\n",
    "Gastrin.mol2\n",
    "Cholecystokinin.mol2\n",
    "GHRP6.mol2\n",
    "Somatostatin.mol2\n",
    "NeurokininA.mol2\n",
    "NeurokininB.mol2\n",
    "CD38Ligand_NAD.mol2\n",
    "CD48Ligand.mol2\n",
    "cKITLigand.mol2"
   ]
  },
  {
   "cell_type": "markdown",
   "metadata": {},
   "source": [
    "## Download and Save Receptors 3D Structure"
   ]
  },
  {
   "cell_type": "markdown",
   "metadata": {},
   "source": [
    "#### C-kit"
   ]
  },
  {
   "cell_type": "code",
   "execution_count": 7,
   "metadata": {},
   "outputs": [
    {
     "name": "stderr",
     "output_type": "stream",
     "text": [
      "--2019-12-08 14:26:10--  http://www.rcsb.org/pdb/files/2O26.pdb.gz\n",
      "Resolving www.rcsb.org... 132.249.213.190\n",
      "Connecting to www.rcsb.org|132.249.213.190|:80... connected.\n",
      "HTTP request sent, awaiting response... 301 Moved Permanently\n",
      "Location: http://files.rcsb.org/download/2O26.pdb.gz [following]\n",
      "--2019-12-08 14:26:10--  http://files.rcsb.org/download/2O26.pdb.gz\n",
      "Resolving files.rcsb.org... 132.249.213.91\n",
      "Connecting to files.rcsb.org|132.249.213.91|:80... connected.\n",
      "HTTP request sent, awaiting response... 200 OK\n",
      "Length: 328942 (321K) [application/octet-stream]\n",
      "Saving to: ‘2O26.pdb.gz’\n",
      "\n",
      "     0K .......... .......... .......... .......... .......... 15%  917K 0s\n",
      "    50K .......... .......... .......... .......... .......... 31%  690K 0s\n",
      "   100K .......... .......... .......... .......... .......... 46%  992K 0s\n",
      "   150K .......... .......... .......... .......... .......... 62%  986K 0s\n",
      "   200K .......... .......... .......... .......... .......... 77%  710K 0s\n",
      "   250K .......... .......... .......... .......... .......... 93%  644K 0s\n",
      "   300K .......... .......... .                               100%  692K=0.4s\n",
      "\n",
      "2019-12-08 14:26:11 (790 KB/s) - ‘2O26.pdb.gz’ saved [328942/328942]\n",
      "\n"
     ]
    }
   ],
   "source": [
    "%%bash\n",
    "wget http://www.rcsb.org/pdb/files/2O26.pdb.gz"
   ]
  },
  {
   "cell_type": "code",
   "execution_count": 8,
   "metadata": {},
   "outputs": [
    {
     "name": "stderr",
     "output_type": "stream",
     "text": [
      "1 molecule converted\n",
      "20 audit log messages \n"
     ]
    }
   ],
   "source": [
    "%%bash\n",
    "zcat 2O26.pdb.gz > cKIT.pdb\n",
    "babel -ipdb cKIT.pdb -omol2 cKIT.mol2"
   ]
  },
  {
   "cell_type": "markdown",
   "metadata": {},
   "source": [
    "#### Beta-2 adrenergic receptor"
   ]
  },
  {
   "cell_type": "code",
   "execution_count": 21,
   "metadata": {},
   "outputs": [
    {
     "name": "stderr",
     "output_type": "stream",
     "text": [
      "--2019-12-08 21:48:12--  https://swissmodel.expasy.org/repository/5de6d5468fd6f9fc7de1ddec.pdb\n",
      "Resolving swissmodel.expasy.org... 131.152.25.49\n",
      "Connecting to swissmodel.expasy.org|131.152.25.49|:443... connected.\n",
      "HTTP request sent, awaiting response... 200 OK\n",
      "Length: 220265 (215K) [text/plain]\n",
      "Saving to: ‘5de6d5468fd6f9fc7de1ddec.pdb’\n",
      "\n",
      "     0K .......... .......... .......... .......... .......... 23%  142K 1s\n",
      "    50K .......... .......... .......... .......... .......... 46%  286K 1s\n",
      "   100K .......... .......... .......... .......... .......... 69% 18.4M 0s\n",
      "   150K .......... .......... .......... .......... .......... 92% 24.9M 0s\n",
      "   200K .......... .....                                      100% 88.3K=0.7s\n",
      "\n",
      "2019-12-08 21:48:14 (307 KB/s) - ‘5de6d5468fd6f9fc7de1ddec.pdb’ saved [220265/220265]\n",
      "\n"
     ]
    }
   ],
   "source": [
    "%%bash\n",
    "wget https://swissmodel.expasy.org/repository/5de6d5468fd6f9fc7de1ddec.pdb"
   ]
  },
  {
   "cell_type": "markdown",
   "metadata": {},
   "source": [
    "### CD38"
   ]
  },
  {
   "cell_type": "code",
   "execution_count": 31,
   "metadata": {},
   "outputs": [
    {
     "name": "stderr",
     "output_type": "stream",
     "text": [
      "--2019-12-13 13:54:03--  https://swissmodel.expasy.org/repository/5de7e6bd02efd0bf8cd61ec6.pdb\n",
      "Resolving swissmodel.expasy.org (swissmodel.expasy.org)... 131.152.25.49\n",
      "Connecting to swissmodel.expasy.org (swissmodel.expasy.org)|131.152.25.49|:443... connected.\n",
      "HTTP request sent, awaiting response... 200 OK\n",
      "Length: 138517 (135K) [text/plain]\n",
      "Saving to: ‘5de7e6bd02efd0bf8cd61ec6.pdb’\n",
      "\n",
      "     0K .......... .......... .......... .......... .......... 36%  142K 1s\n",
      "    50K .......... .......... .......... .......... .......... 73%  284K 0s\n",
      "   100K .......... .......... .......... .....                100% 19.6M=0.5s\n",
      "\n",
      "2019-12-13 13:54:05 (255 KB/s) - ‘5de7e6bd02efd0bf8cd61ec6.pdb’ saved [138517/138517]\n",
      "\n"
     ]
    }
   ],
   "source": [
    "%%bash\n",
    "wget https://swissmodel.expasy.org/repository/5de7e6bd02efd0bf8cd61ec6.pdb"
   ]
  },
  {
   "cell_type": "markdown",
   "metadata": {},
   "source": [
    "### CD48"
   ]
  },
  {
   "cell_type": "code",
   "execution_count": 38,
   "metadata": {},
   "outputs": [
    {
     "name": "stderr",
     "output_type": "stream",
     "text": [
      "--2019-12-13 17:41:45--  https://swissmodel.expasy.org/repository/57ac748278ed584d1d50aa16.pdb\n",
      "Resolving swissmodel.expasy.org (swissmodel.expasy.org)... 131.152.25.49\n",
      "Connecting to swissmodel.expasy.org (swissmodel.expasy.org)|131.152.25.49|:443... connected.\n",
      "HTTP request sent, awaiting response... 200 OK\n",
      "Length: 128466 (125K) [text/plain]\n",
      "Saving to: ‘57ac748278ed584d1d50aa16.pdb’\n",
      "\n",
      "     0K .......... .......... .......... .......... .......... 39%  146K 1s\n",
      "    50K .......... .......... .......... .......... .......... 79%  293K 0s\n",
      "   100K .......... .......... .....                           100% 22.0M=0.5s\n",
      "\n",
      "2019-12-13 17:41:47 (244 KB/s) - ‘57ac748278ed584d1d50aa16.pdb’ saved [128466/128466]\n",
      "\n"
     ]
    }
   ],
   "source": [
    "%%bash\n",
    "wget https://swissmodel.expasy.org/repository/57ac748278ed584d1d50aa16.pdb"
   ]
  },
  {
   "cell_type": "markdown",
   "metadata": {},
   "source": [
    "# Detemine Docking and Binding Affinity"
   ]
  },
  {
   "cell_type": "markdown",
   "metadata": {},
   "source": [
    "### Intialize and Import Python Environment"
   ]
  },
  {
   "cell_type": "code",
   "execution_count": 74,
   "metadata": {},
   "outputs": [],
   "source": [
    "from oddt.virtualscreening import virtualscreening as vs\n",
    "import oddt as ot\n",
    "import oddt.docking\n",
    "\n",
    "import warnings\n",
    "warnings.simplefilter(action='ignore', category=FutureWarning)\n",
    "\n",
    "import matplotlib.cm as cm\n",
    "import matplotlib.colors as colors\n",
    "import numpy as np\n",
    "import pandas as pd\n",
    "import matplotlib.pyplot as plt\n",
    "from mpl_toolkits.mplot3d import Axes3D\n",
    "from mlxtend.plotting import category_scatter\n",
    "\n",
    "from Bio.PDB import PDBParser\n",
    "import glob"
   ]
  },
  {
   "cell_type": "markdown",
   "metadata": {},
   "source": [
    "### Get Ligand List and Intialize virtual dock and screen"
   ]
  },
  {
   "cell_type": "markdown",
   "metadata": {},
   "source": [
    "B2AR"
   ]
  },
  {
   "cell_type": "code",
   "execution_count": null,
   "metadata": {},
   "outputs": [],
   "source": [
    "#Specify receptor\n",
    "protein = next(ot.toolkit.readfile('pdb', 'B2AdrenergicR.pdb'))\n",
    "\n",
    "#set receptor as a protein\n",
    "protein.protein = True\n",
    "\n",
    "#Intialize virtualscreening object\n",
    "#n_cpu = Number of cores used for docking/scoring\n",
    "NeuroScan = vs(n_cpu=4,chunksize=10)\n",
    "\n",
    "#Specify docking engine\n",
    "#Autodcok Vina must be downloaded and available through the command line.\n",
    "#protein = receptor to dock against.\n",
    "#size = area around protein to be examined.\n",
    "#center = center point of area specified above. Should be center of receptor \n",
    "NeuroScan.dock(engine=\"autodock_vina\",protein=protein,size=(50, 80, 50),center=(-35, 35, 15))\n",
    "\n",
    "#Specify Scoring Function\n",
    "#Using rfscore_v3 will download RFScore_v3_pdbind2016.pickle to use \n",
    "#as a trained model\n",
    "NeuroScan.score(function=\"rfscore_v3\",protein=protein)\n",
    "\n",
    "#List of ligands to be screened against the receptor:\n",
    "    #Note: Multiple 3D files can be combined together, I lacked the \n",
    "    #hardware specs to run these files.\n",
    "\n",
    "    # function .load_ligands() = specificy the file type and file name\n",
    "    #Will set the ligand that will be docked against the receptor\n",
    "\n",
    "    # function .write() = save 3D position and coordinates of best docking\n",
    "    #position\n",
    "\n",
    "    # function .write_csv() = Save the top 9 docking scores\n",
    "    #and corresponding rfscore\n",
    "\n",
    "#Dopamine\n",
    "NeuroScan.load_ligands('mol2','Dopamine.mol2')\n",
    "NeuroScan.write('pdb','B2AR_Dop_dock.pdb')\n",
    "NeuroScan.write_csv('B2AR_Dop_score.csv')\n",
    "#Epinephrine\n",
    "NeuroScan.load_ligands('mol2','Epinephrine.mol2')\n",
    "NeuroScan.write('pdb','B2AR_Epi_dock.pdb')\n",
    "NeuroScan.write_csv('B2AR_Epi_score.csv')\n",
    "#GABA\n",
    "NeuroScan.load_ligands('mol2','GABA.mol2')\n",
    "NeuroScan.write('pdb','B2AR_GABA_dock.pdb')\n",
    "NeuroScan.write_csv('B2AR_GABA_score.csv')\n",
    "#Glutamate\n",
    "NeuroScan.load_ligands('mol2','Glutamate.mol2')\n",
    "NeuroScan.write('pdb','B2AR_Glut_dock.pdb')\n",
    "NeuroScan.write_csv('B2AR_Glut_score.csv')\n",
    "#Histamine\n",
    "NeuroScan.load_ligands('mol2','Histamine.mol2')\n",
    "NeuroScan.write('pdb','B2AR_Hist_dock.pdb')\n",
    "NeuroScan.write_csv('B2AR_Hist_score.csv')\n",
    "#Norepinephrine\n",
    "NeuroScan.load_ligands('mol2','Norepinephrine.mol2')\n",
    "NeuroScan.write('pdb','B2AR_Nore_dock.pdb')\n",
    "NeuroScan.write_csv('B2AR_Nore_score.csv')\n",
    "#Serotonin\n",
    "NeuroScan.load_ligands('mol2','Serotonin.mol2')\n",
    "NeuroScan.write('pdb','B2AR_Sero_dock.pdb')\n",
    "NeuroScan.write_csv('B2AR_Sero_score.csv')\n",
    "#Octopamine\n",
    "NeuroScan.load_ligands('mol2','Octopamine.mol2')\n",
    "NeuroScan.write('pdb','B2AR_Octo_dock.pdb')\n",
    "NeuroScan.write_csv('B2AR_Octo_score.csv')\n",
    "#Synephrine\n",
    "NeuroScan.load_ligands('mol2','Synephrine.mol2')\n",
    "NeuroScan.write('pdb','B2AR_Syn_dock.pdb')\n",
    "NeuroScan.write_csv('B2AR_Syn_score.csv')\n",
    "#Tryptamine\n",
    "NeuroScan.load_ligands('mol2','Tryptamine.mol2')\n",
    "NeuroScan.write('pdb','B2AR_Tryp_dock.pdb')\n",
    "NeuroScan.write_csv('B2AR_Tryp_score.csv')\n",
    "#N-methyltryptamine\n",
    "NeuroScan.load_ligands('mol2','Nmethyltryptamine.mol2')\n",
    "NeuroScan.write('pdb','B2AR_Nmet_dock.pdb')\n",
    "NeuroScan.write_csv('B2AR_Nmet_score.csv')\n",
    "#Anandamide\n",
    "NeuroScan.load_ligands('mol2','Anandamide.mol2')\n",
    "NeuroScan.write('pdb','B2AR_Anan_dock.pdb')\n",
    "NeuroScan.write_csv('B2AR_Anan_score.csv')\n",
    "#2Arachidonoylglycerol\n",
    "NeuroScan.load_ligands('mol2','2Arachidonoylglycerol.mol2')\n",
    "NeuroScan.write('pdb','B2AR_2Ara_dock.pdb')\n",
    "NeuroScan.write_csv('B2AR_2Ara_score.csv')\n",
    "#2Arachidonylglycerylether\n",
    "NeuroScan.load_ligands('mol2','2Arachidonylglycerylether.mol2')\n",
    "NeuroScan.write('pdb','B2AR_2Araether_dock.pdb')\n",
    "NeuroScan.write_csv('B2AR_2Araether_score.csv')\n",
    "#NArachidonoyldopamine\n",
    "NeuroScan.load_ligands('mol2','NArachidonoyldopamine.mol2')\n",
    "NeuroScan.write('pdb','B2AR_NAra_dock.pdb')\n",
    "NeuroScan.write_csv('B2AR_NAra_score.csv')\n",
    "#Virodhamine\n",
    "NeuroScan.load_ligands('mol2','Virodhamine.mol2')\n",
    "NeuroScan.write('pdb','B2AR_Viro_dock.pdb')\n",
    "NeuroScan.write_csv('B2AR_Viro_score.csv')\n",
    "#Nicotinamideadeninedinucleotide\n",
    "NeuroScan.load_ligands('mol2','Nicotinamideadeninedinucleotide.mol2')\n",
    "NeuroScan.write('pdb','B2AR_Nico_dock.pdb')\n",
    "NeuroScan.write_csv('B2AR_Nico_score.csv')\n",
    "#Bradykinin\n",
    "NeuroScan.load_ligands('mol2','Bradykinin.mol2')\n",
    "NeuroScan.write('pdb','B2AR_Brad_dock.pdb')\n",
    "NeuroScan.write_csv('B2AR_Brad_score.csv')\n",
    "#Urocortin\n",
    "NeuroScan.load_ligands('mol2','Urocortin.mol2')\n",
    "NeuroScan.write('pdb','B2AR_Uroc_dock.pdb')\n",
    "NeuroScan.write_csv('B2AR_Uroc_score.csv')\n",
    "#Gastrin\n",
    "NeuroScan.load_ligands('mol2','Gastrin.mol2')\n",
    "NeuroScan.write('pdb','B2AR_Gast_dock.pdb')\n",
    "NeuroScan.write_csv('B2AR_Gast_score.csv')\n",
    "#Cholecystokinin\n",
    "NeuroScan.load_ligands('mol2','Cholecystokinin.mol2')\n",
    "NeuroScan.write('pdb','B2AR_Chol_dock.pdb')\n",
    "NeuroScan.write_csv('B2AR_Chol_score.csv')\n",
    "#GHRP6\n",
    "NeuroScan.load_ligands('mol2','GHRP6.mol2')\n",
    "NeuroScan.write('pdb','B2AR_GHRP6_dock.pdb')\n",
    "NeuroScan.write_csv('B2AR_GHRP6_score.csv')\n",
    "#Somatostatin\n",
    "NeuroScan.load_ligands('mol2','Somatostatin.mol2')\n",
    "NeuroScan.write('pdb','B2AR_Soma_dock.pdb')\n",
    "NeuroScan.write_csv('B2AR_Soma_score.csv')\n",
    "#NeurokininA\n",
    "NeuroScan.load_ligands('mol2','NeurokininA.mol2')\n",
    "NeuroScan.write('pdb','B2AR_NeuA_dock.pdb')\n",
    "NeuroScan.write_csv('B2AR_NeuA_score.csv')\n",
    "#NeurokininA\n",
    "NeuroScan.load_ligands('mol2','NeurokininB.mol2')\n",
    "NeuroScan.write('pdb','B2AR_NeuB_dock.pdb')\n",
    "NeuroScan.write_csv('B2AR_NeuB_score.csv')"
   ]
  },
  {
   "cell_type": "markdown",
   "metadata": {},
   "source": [
    "cKIT"
   ]
  },
  {
   "cell_type": "code",
   "execution_count": 14,
   "metadata": {},
   "outputs": [
    {
     "name": "stderr",
     "output_type": "stream",
     "text": [
      "/home/cburns4/anaconda3/lib/python3.7/site-packages/oddt/virtualscreening.py:345: UserWarning: The chunksize (10) seams to be to large.\n",
      "  % self.chunksize)\n",
      "/home/cburns4/anaconda3/lib/python3.7/site-packages/oddt/virtualscreening.py:351: UserWarning: Falling back to sub-methods multithreading as the number of molecules is less than cores (1 < 4)\n",
      "  '(%i < %i)' % (len(first_chunk),  self.n_cpu))\n"
     ]
    }
   ],
   "source": [
    "#See instructions in B2AR\n",
    "protein = next(ot.toolkit.readfile('pdb', 'cKIT.pdb'))\n",
    "protein.protein = True\n",
    "NeuroScan = vs(n_cpu=4,chunksize=10)\n",
    "NeuroScan.dock(engine=\"autodock_vina\",protein=protein,size=(120, 140, 120),center=(20, 20, 20))\n",
    "NeuroScan.score(function=\"rfscore_v3\",protein=protein)\n",
    "\n",
    "#Dopamine\n",
    "NeuroScan.load_ligands('mol2','Dopamine.mol2')\n",
    "NeuroScan.write('pdb','cKIT_Dop_dock.pdb')\n",
    "NeuroScan.write_csv('cKIT_Dop_score.csv')\n",
    "#Epinephrine\n",
    "NeuroScan.load_ligands('mol2','Epinephrine.mol2')\n",
    "NeuroScan.write('pdb','cKIT_Epi_dock.pdb')\n",
    "NeuroScan.write_csv('cKIT_Epi_score.csv')\n",
    "#GABA\n",
    "NeuroScan.load_ligands('mol2','GABA.mol2')\n",
    "NeuroScan.write('pdb','cKIT_GABA_dock.pdb')\n",
    "NeuroScan.write_csv('cKIT_GABA_score.csv')\n",
    "#Glutamate\n",
    "NeuroScan.load_ligands('mol2','Glutamate.mol2')\n",
    "NeuroScan.write('pdb','cKIT_Glut_dock.pdb')\n",
    "NeuroScan.write_csv('cKIT_Glut_score.csv')\n",
    "#Histamine\n",
    "NeuroScan.load_ligands('mol2','Histamine.mol2')\n",
    "NeuroScan.write('pdb','cKIT_Hist_dock.pdb')\n",
    "NeuroScan.write_csv('cKIT_Hist_score.csv')\n",
    "#Norepinephrine\n",
    "NeuroScan.load_ligands('mol2','Norepinephrine.mol2')\n",
    "NeuroScan.write('pdb','cKIT_Nore_dock.pdb')\n",
    "NeuroScan.write_csv('cKIT_Nore_score.csv')\n",
    "#Serotonin\n",
    "NeuroScan.load_ligands('mol2','Serotonin.mol2')\n",
    "NeuroScan.write('pdb','cKIT_Sero_dock.pdb')\n",
    "NeuroScan.write_csv('cKIT_Sero_score.csv')\n",
    "#Octopamine\n",
    "NeuroScan.load_ligands('mol2','Octopamine.mol2')\n",
    "NeuroScan.write('pdb','cKIT_Octo_dock.pdb')\n",
    "NeuroScan.write_csv('cKIT_Octo_score.csv')\n",
    "#Synephrine\n",
    "NeuroScan.load_ligands('mol2','Synephrine.mol2')\n",
    "NeuroScan.write('pdb','cKIT_Syn_dock.pdb')\n",
    "NeuroScan.write_csv('cKIT_Syn_score.csv')\n",
    "#Tryptamine\n",
    "NeuroScan.load_ligands('mol2','Tryptamine.mol2')\n",
    "NeuroScan.write('pdb','cKIT_Tryp_dock.pdb')\n",
    "NeuroScan.write_csv('cKIT_Tryp_score.csv')\n",
    "#N-methyltryptamine\n",
    "NeuroScan.load_ligands('mol2','Nmethyltryptamine.mol2')\n",
    "NeuroScan.write('pdb','cKIT_Nmet_dock.pdb')\n",
    "NeuroScan.write_csv('cKIT_Nmet_score.csv')\n",
    "#Anandamide\n",
    "NeuroScan.load_ligands('mol2','Anandamide.mol2')\n",
    "NeuroScan.write('pdb','cKIT_Anan_dock.pdb')\n",
    "NeuroScan.write_csv('cKIT_Anan_score.csv')\n",
    "#2Arachidonoylglycerol\n",
    "NeuroScan.load_ligands('mol2','2Arachidonoylglycerol.mol2')\n",
    "NeuroScan.write('pdb','cKIT_2Ara_dock.pdb')\n",
    "NeuroScan.write_csv('cKIT_2Ara_score.csv')\n",
    "#2Arachidonylglycerylether\n",
    "NeuroScan.load_ligands('mol2','2Arachidonylglycerylether.mol2')\n",
    "NeuroScan.write('pdb','cKIT_2Araether_dock.pdb')\n",
    "NeuroScan.write_csv('cKIT_2Araether_score.csv')\n",
    "#NArachidonoyldopamine\n",
    "NeuroScan.load_ligands('mol2','NArachidonoyldopamine.mol2')\n",
    "NeuroScan.write('pdb','cKIT_NAra_dock.pdb')\n",
    "NeuroScan.write_csv('cKIT_NAra_score.csv')\n",
    "#Virodhamine\n",
    "NeuroScan.load_ligands('mol2','Virodhamine.mol2')\n",
    "NeuroScan.write('pdb','cKIT_Viro_dock.pdb')\n",
    "NeuroScan.write_csv('cKIT_Viro_score.csv')\n",
    "#Nicotinamideadeninedinucleotide\n",
    "NeuroScan.load_ligands('mol2','Nicotinamideadeninedinucleotide.mol2')\n",
    "NeuroScan.write('pdb','cKIT_Nico_dock.pdb')\n",
    "NeuroScan.write_csv('cKIT_Nico_score.csv')\n",
    "#Bradykinin\n",
    "NeuroScan.load_ligands('mol2','Bradykinin.mol2')\n",
    "NeuroScan.write('pdb','cKIT_Brad_dock.pdb')\n",
    "NeuroScan.write_csv('cKIT_Brad_score.csv')\n",
    "#Urocortin\n",
    "NeuroScan.load_ligands('mol2','Urocortin.mol2')\n",
    "NeuroScan.write('pdb','cKIT_Uroc_dock.pdb')\n",
    "NeuroScan.write_csv('cKIT_Uroc_score.csv')\n",
    "#Gastrin\n",
    "NeuroScan.load_ligands('mol2','Gastrin.mol2')\n",
    "NeuroScan.write('pdb','cKIT_Gast_dock.pdb')\n",
    "NeuroScan.write_csv('cKIT_Gast_score.csv')\n",
    "#Cholecystokinin\n",
    "NeuroScan.load_ligands('mol2','Cholecystokinin.mol2')\n",
    "NeuroScan.write('pdb','cKIT_Chol_dock.pdb')\n",
    "NeuroScan.write_csv('cKIT_Chol_score.csv')\n",
    "#GHRP6\n",
    "NeuroScan.load_ligands('mol2','GHRP6.mol2')\n",
    "NeuroScan.write('pdb','cKIT_GHRP6_dock.pdb')\n",
    "NeuroScan.write_csv('cKIT_GHRP6_score.csv')\n",
    "#Somatostatin\n",
    "NeuroScan.load_ligands('mol2','Somatostatin.mol2')\n",
    "NeuroScan.write('pdb','cKIT_Soma_dock.pdb')\n",
    "NeuroScan.write_csv('cKIT_Soma_score.csv')\n",
    "#NeurokininA\n",
    "NeuroScan.load_ligands('mol2','NeurokininA.mol2')\n",
    "NeuroScan.write('pdb','cKIT_NeuA_dock.pdb')\n",
    "NeuroScan.write_csv('cKIT_NeuA_score.csv')\n",
    "#NeurokininB\n",
    "NeuroScan.load_ligands('mol2','NeurokininB.mol2')\n",
    "NeuroScan.write('pdb','cKIT_NeuB_dock.pdb')\n",
    "NeuroScan.write_csv('cKIT_NeuB_score.csv')\n",
    "#cKIT Ligand\n",
    "NeuroScan.load_ligands('mol2','cKITLigand.mol2')\n",
    "NeuroScan.write('pdb','cKIT_CKITL_dock.pdb')\n",
    "NeuroScan.write_csv('cKIT_cKITL_score.csv')"
   ]
  },
  {
   "cell_type": "markdown",
   "metadata": {},
   "source": [
    "CD38"
   ]
  },
  {
   "cell_type": "code",
   "execution_count": 15,
   "metadata": {},
   "outputs": [
    {
     "name": "stderr",
     "output_type": "stream",
     "text": [
      "/home/cburns4/anaconda3/lib/python3.7/site-packages/oddt/virtualscreening.py:345: UserWarning: The chunksize (10) seams to be to large.\n",
      "  % self.chunksize)\n",
      "/home/cburns4/anaconda3/lib/python3.7/site-packages/oddt/virtualscreening.py:351: UserWarning: Falling back to sub-methods multithreading as the number of molecules is less than cores (1 < 4)\n",
      "  '(%i < %i)' % (len(first_chunk),  self.n_cpu))\n"
     ]
    }
   ],
   "source": [
    "#See instructions in B2AR\n",
    "protein = next(ot.toolkit.readfile('pdb', 'CD38.pdb'))\n",
    "protein.protein = True\n",
    "NeuroScan = vs(n_cpu=4,chunksize=10)\n",
    "NeuroScan.dock(engine=\"autodock_vina\",protein=protein,size=(40, 50, 50),center=(12, 5, 5))\n",
    "NeuroScan.score(function=\"rfscore_v3\",protein=protein)\n",
    "\n",
    "#Dopamine\n",
    "NeuroScan.load_ligands('mol2','Dopamine.mol2')\n",
    "NeuroScan.write('pdb','CD38_Dop_dock.pdb')\n",
    "NeuroScan.write_csv('CD38_Dop_score.csv')\n",
    "#Epinephrine\n",
    "NeuroScan.load_ligands('mol2','Epinephrine.mol2')\n",
    "NeuroScan.write('pdb','CD38_Epi_dock.pdb')\n",
    "NeuroScan.write_csv('CD38_Epi_score.csv')\n",
    "#GABA\n",
    "NeuroScan.load_ligands('mol2','GABA.mol2')\n",
    "NeuroScan.write('pdb','CD38_GABA_dock.pdb')\n",
    "NeuroScan.write_csv('CD38_GABA_score.csv')\n",
    "#Glutamate\n",
    "NeuroScan.load_ligands('mol2','Glutamate.mol2')\n",
    "NeuroScan.write('pdb','CD38_Glut_dock.pdb')\n",
    "NeuroScan.write_csv('CD38_Glut_score.csv')\n",
    "#Histamine\n",
    "NeuroScan.load_ligands('mol2','Histamine.mol2')\n",
    "NeuroScan.write('pdb','CD38_Hist_dock.pdb')\n",
    "NeuroScan.write_csv('CD38_Hist_score.csv')\n",
    "#Norepinephrine\n",
    "NeuroScan.load_ligands('mol2','Norepinephrine.mol2')\n",
    "NeuroScan.write('pdb','CD38_Nore_dock.pdb')\n",
    "NeuroScan.write_csv('CD38_Nore_score.csv')\n",
    "#Serotonin\n",
    "NeuroScan.load_ligands('mol2','Serotonin.mol2')\n",
    "NeuroScan.write('pdb','CD38_Sero_dock.pdb')\n",
    "NeuroScan.write_csv('CD38_Sero_score.csv')\n",
    "#Octopamine\n",
    "NeuroScan.load_ligands('mol2','Octopamine.mol2')\n",
    "NeuroScan.write('pdb','CD38_Octo_dock.pdb')\n",
    "NeuroScan.write_csv('CD38_Octo_score.csv')\n",
    "#Synephrine\n",
    "NeuroScan.load_ligands('mol2','Synephrine.mol2')\n",
    "NeuroScan.write('pdb','CD38_Syn_dock.pdb')\n",
    "NeuroScan.write_csv('CD38_Syn_score.csv')\n",
    "#Tryptamine\n",
    "NeuroScan.load_ligands('mol2','Tryptamine.mol2')\n",
    "NeuroScan.write('pdb','CD38_Tryp_dock.pdb')\n",
    "NeuroScan.write_csv('CD38_Tryp_score.csv')\n",
    "#N-methyltryptamine\n",
    "NeuroScan.load_ligands('mol2','Nmethyltryptamine.mol2')\n",
    "NeuroScan.write('pdb','CD38_Nmet_dock.pdb')\n",
    "NeuroScan.write_csv('CD38_Nmet_score.csv')\n",
    "#Anandamide\n",
    "NeuroScan.load_ligands('mol2','Anandamide.mol2')\n",
    "NeuroScan.write('pdb','CD38_Anan_dock.pdb')\n",
    "NeuroScan.write_csv('CD38_Anan_score.csv')\n",
    "#2Arachidonoylglycerol\n",
    "NeuroScan.load_ligands('mol2','2Arachidonoylglycerol.mol2')\n",
    "NeuroScan.write('pdb','CD38_2Ara_dock.pdb')\n",
    "NeuroScan.write_csv('CD38_2Ara_score.csv')\n",
    "#2Arachidonylglycerylether\n",
    "NeuroScan.load_ligands('mol2','2Arachidonylglycerylether.mol2')\n",
    "NeuroScan.write('pdb','CD38_2Araether_dock.pdb')\n",
    "NeuroScan.write_csv('CD38_2Araether_score.csv')\n",
    "#NArachidonoyldopamine\n",
    "NeuroScan.load_ligands('mol2','NArachidonoyldopamine.mol2')\n",
    "NeuroScan.write('pdb','CD38_NAra_dock.pdb')\n",
    "NeuroScan.write_csv('CD38_NAra_score.csv')\n",
    "#Virodhamine\n",
    "NeuroScan.load_ligands('mol2','Virodhamine.mol2')\n",
    "NeuroScan.write('pdb','CD38_Viro_dock.pdb')\n",
    "NeuroScan.write_csv('CD38_Viro_score.csv')\n",
    "#Nicotinamideadeninedinucleotide\n",
    "NeuroScan.load_ligands('mol2','Nicotinamideadeninedinucleotide.mol2')\n",
    "NeuroScan.write('pdb','CD38_Nico_dock.pdb')\n",
    "NeuroScan.write_csv('CD38_Nico_score.csv')\n",
    "#Bradykinin\n",
    "NeuroScan.load_ligands('mol2','Bradykinin.mol2')\n",
    "NeuroScan.write('pdb','CD38_Brad_dock.pdb')\n",
    "NeuroScan.write_csv('CD38_Brad_score.csv')\n",
    "#Urocortin\n",
    "NeuroScan.load_ligands('mol2','Urocortin.mol2')\n",
    "NeuroScan.write('pdb','CD38_Uroc_dock.pdb')\n",
    "NeuroScan.write_csv('CD38_Uroc_score.csv')\n",
    "#Gastrin\n",
    "NeuroScan.load_ligands('mol2','Gastrin.mol2')\n",
    "NeuroScan.write('pdb','CD38_Gast_dock.pdb')\n",
    "NeuroScan.write_csv('CD38_Gast_score.csv')\n",
    "#Cholecystokinin\n",
    "NeuroScan.load_ligands('mol2','Cholecystokinin.mol2')\n",
    "NeuroScan.write('pdb','CD38_Chol_dock.pdb')\n",
    "NeuroScan.write_csv('CD38_Chol_score.csv')\n",
    "#GHRP6\n",
    "NeuroScan.load_ligands('mol2','GHRP6.mol2')\n",
    "NeuroScan.write('pdb','CD38_GHRP6_dock.pdb')\n",
    "NeuroScan.write_csv('CD38_GHRP6_score.csv')\n",
    "#Somatostatin\n",
    "NeuroScan.load_ligands('mol2','Somatostatin.mol2')\n",
    "NeuroScan.write('pdb','CD38_Soma_dock.pdb')\n",
    "NeuroScan.write_csv('CD38_Soma_score.csv')\n",
    "#NeurokininA\n",
    "NeuroScan.load_ligands('mol2','NeurokininA.mol2')\n",
    "NeuroScan.write('pdb','CD38_NeuA_dock.pdb')\n",
    "NeuroScan.write_csv('CD38_NeuA_score.csv')\n",
    "#NeurokininB\n",
    "NeuroScan.load_ligands('mol2','NeurokininB.mol2')\n",
    "NeuroScan.write('pdb','CD38_NeuB_dock.pdb')\n",
    "NeuroScan.write_csv('CD38_NeuB_score.csv')\n",
    "#CD38 Ligand\n",
    "NeuroScan.load_ligands('mol2','CD38Ligand_NAD.mol2')\n",
    "NeuroScan.write('pdb','CD38_CD38L_dock.pdb')\n",
    "NeuroScan.write_csv('CD38_CD38L_score.csv')"
   ]
  },
  {
   "cell_type": "markdown",
   "metadata": {},
   "source": [
    "CD48"
   ]
  },
  {
   "cell_type": "code",
   "execution_count": null,
   "metadata": {},
   "outputs": [],
   "source": [
    "#See instructions in B2AR\n",
    "protein = next(ot.toolkit.readfile('pdb', 'CD48.pdb'))\n",
    "protein.protein = True\n",
    "NeuroScan = vs(n_cpu=4,chunksize=10)\n",
    "NeuroScan.dock(engine=\"autodock_vina\",protein=protein,size=(60, 50, 80),center=(0, 45, 60))\n",
    "NeuroScan.score(function=\"rfscore_v3\",protein=protein)\n",
    "\n",
    "#Dopamine\n",
    "NeuroScan.load_ligands('mol2','Dopamine.mol2')\n",
    "NeuroScan.write('pdb','CD48_Dop_dock.pdb')\n",
    "NeuroScan.write_csv('CD48_Dop_score.csv')\n",
    "#Epinephrine\n",
    "NeuroScan.load_ligands('mol2','Epinephrine.mol2')\n",
    "NeuroScan.write('pdb','CD48_Epi_dock.pdb')\n",
    "NeuroScan.write_csv('CD48_Epi_score.csv')\n",
    "#GABA\n",
    "NeuroScan.load_ligands('mol2','GABA.mol2')\n",
    "NeuroScan.write('pdb','CD48_GABA_dock.pdb')\n",
    "NeuroScan.write_csv('CD48_GABA_score.csv')\n",
    "#Glutamate\n",
    "NeuroScan.load_ligands('mol2','Glutamate.mol2')\n",
    "NeuroScan.write('pdb','CD48_Glut_dock.pdb')\n",
    "NeuroScan.write_csv('CD48_Glut_score.csv')\n",
    "#Histamine\n",
    "NeuroScan.load_ligands('mol2','Histamine.mol2')\n",
    "NeuroScan.write('pdb','CD48_Hist_dock.pdb')\n",
    "NeuroScan.write_csv('CD48_Hist_score.csv')\n",
    "#Norepinephrine\n",
    "NeuroScan.load_ligands('mol2','Norepinephrine.mol2')\n",
    "NeuroScan.write('pdb','CD48_Nore_dock.pdb')\n",
    "NeuroScan.write_csv('CD48_Nore_score.csv')\n",
    "#Serotonin\n",
    "NeuroScan.load_ligands('mol2','Serotonin.mol2')\n",
    "NeuroScan.write('pdb','CD48_Sero_dock.pdb')\n",
    "NeuroScan.write_csv('CD48_Sero_score.csv')\n",
    "#Octopamine\n",
    "NeuroScan.load_ligands('mol2','Octopamine.mol2')\n",
    "NeuroScan.write('pdb','CD48_Octo_dock.pdb')\n",
    "NeuroScan.write_csv('CD48_Octo_score.csv')\n",
    "#Synephrine\n",
    "NeuroScan.load_ligands('mol2','Synephrine.mol2')\n",
    "NeuroScan.write('pdb','CD48_Syn_dock.pdb')\n",
    "NeuroScan.write_csv('CD48_Syn_score.csv')\n",
    "#Tryptamine\n",
    "NeuroScan.load_ligands('mol2','Tryptamine.mol2')\n",
    "NeuroScan.write('pdb','CD48_Tryp_dock.pdb')\n",
    "NeuroScan.write_csv('CD48_Tryp_score.csv')\n",
    "#N-methyltryptamine\n",
    "NeuroScan.load_ligands('mol2','Nmethyltryptamine.mol2')\n",
    "NeuroScan.write('pdb','CD48_Nmet_dock.pdb')\n",
    "NeuroScan.write_csv('CD48_Nmet_score.csv')\n",
    "#Anandamide\n",
    "NeuroScan.load_ligands('mol2','Anandamide.mol2')\n",
    "NeuroScan.write('pdb','CD48_Anan_dock.pdb')\n",
    "NeuroScan.write_csv('CD48_Anan_score.csv')\n",
    "#2Arachidonoylglycerol\n",
    "NeuroScan.load_ligands('mol2','2Arachidonoylglycerol.mol2')\n",
    "NeuroScan.write('pdb','CD48_2Ara_dock.pdb')\n",
    "NeuroScan.write_csv('CD48_2Ara_score.csv')\n",
    "#2Arachidonylglycerylether\n",
    "NeuroScan.load_ligands('mol2','2Arachidonylglycerylether.mol2')\n",
    "NeuroScan.write('pdb','CD48_2Araether_dock.pdb')\n",
    "NeuroScan.write_csv('CD48_2Araether_score.csv')\n",
    "#NArachidonoyldopamine\n",
    "NeuroScan.load_ligands('mol2','NArachidonoyldopamine.mol2')\n",
    "NeuroScan.write('pdb','CD48_NAra_dock.pdb')\n",
    "NeuroScan.write_csv('CD48_NAra_score.csv')\n",
    "#Virodhamine\n",
    "NeuroScan.load_ligands('mol2','Virodhamine.mol2')\n",
    "NeuroScan.write('pdb','CD48_Viro_dock.pdb')\n",
    "NeuroScan.write_csv('CD48_Viro_score.csv')\n",
    "#Nicotinamideadeninedinucleotide\n",
    "NeuroScan.load_ligands('mol2','Nicotinamideadeninedinucleotide.mol2')\n",
    "NeuroScan.write('pdb','CD48_Nico_dock.pdb')\n",
    "NeuroScan.write_csv('CD48_Nico_score.csv')\n",
    "#Bradykinin\n",
    "NeuroScan.load_ligands('mol2','Bradykinin.mol2')\n",
    "NeuroScan.write('pdb','CD48_Brad_dock.pdb')\n",
    "NeuroScan.write_csv('CD48_Brad_score.csv')\n",
    "#Urocortin\n",
    "NeuroScan.load_ligands('mol2','Urocortin.mol2')\n",
    "NeuroScan.write('pdb','CD48_Uroc_dock.pdb')\n",
    "NeuroScan.write_csv('CD48_Uroc_score.csv')\n",
    "#Gastrin\n",
    "NeuroScan.load_ligands('mol2','Gastrin.mol2')\n",
    "NeuroScan.write('pdb','CD48_Gast_dock.pdb')\n",
    "NeuroScan.write_csv('CD48_Gast_score.csv')\n",
    "#Cholecystokinin\n",
    "NeuroScan.load_ligands('mol2','Cholecystokinin.mol2')\n",
    "NeuroScan.write('pdb','CD48_Chol_dock.pdb')\n",
    "NeuroScan.write_csv('CD48_Chol_score.csv')\n",
    "#GHRP6\n",
    "NeuroScan.load_ligands('mol2','GHRP6.mol2')\n",
    "NeuroScan.write('pdb','CD48_GHRP6_dock.pdb')\n",
    "NeuroScan.write_csv('CD48_GHRP6_score.csv')\n",
    "#Somatostatin\n",
    "NeuroScan.load_ligands('mol2','Somatostatin.mol2')\n",
    "NeuroScan.write('pdb','CD48_Soma_dock.pdb')\n",
    "NeuroScan.write_csv('CD48_Soma_score.csv')\n",
    "#NeurokininA\n",
    "NeuroScan.load_ligands('mol2','NeurokininA.mol2')\n",
    "NeuroScan.write('pdb','CD48_NeuA_dock.pdb')\n",
    "NeuroScan.write_csv('CD48_NeuA_score.csv')\n",
    "#NeurokininB\n",
    "NeuroScan.load_ligands('mol2','NeurokininB.mol2')\n",
    "NeuroScan.write('pdb','CD48_NeuB_dock.pdb')\n",
    "NeuroScan.write_csv('CD48_NeuB_score.csv')\n",
    "#CD48 Ligand\n",
    "#Unable to Run\n",
    "#NeuroScan.load_ligands('pdb','CD48Ligand.pdb')\n",
    "#NeuroScan.write('pdb','CD48_CD48L_dock.pdb')\n",
    "#NeuroScan.write_csv('CD48_CD48L_score.csv')"
   ]
  },
  {
   "cell_type": "markdown",
   "metadata": {},
   "source": [
    "## Display Docking Score and Bonding Affinity"
   ]
  },
  {
   "cell_type": "markdown",
   "metadata": {},
   "source": [
    "### Get Data from Score csv"
   ]
  },
  {
   "cell_type": "markdown",
   "metadata": {},
   "source": [
    "#### B2AR"
   ]
  },
  {
   "cell_type": "code",
   "execution_count": 2,
   "metadata": {},
   "outputs": [],
   "source": [
    "all_files = glob.glob(\"Score csv/B2AR_score/*.csv\")\n",
    "\n",
    "li = []\n",
    "\n",
    "for filename in all_files:\n",
    "    df = pd.read_csv(filename, index_col=None, header=0)\n",
    "    li.append(df)\n",
    "\n",
    "#Save all data each score csv to B2ARList dataframe\n",
    "B2ARList = pd.concat(li, axis=0, ignore_index=True)"
   ]
  },
  {
   "cell_type": "markdown",
   "metadata": {},
   "source": [
    "#### CD38"
   ]
  },
  {
   "cell_type": "code",
   "execution_count": 3,
   "metadata": {},
   "outputs": [],
   "source": [
    "all_files = glob.glob(\"Score csv/CD38_score/*.csv\")\n",
    "\n",
    "li = []\n",
    "\n",
    "for filename in all_files:\n",
    "    df = pd.read_csv(filename, index_col=None, header=0)\n",
    "    li.append(df)\n",
    "\n",
    "CD38List = pd.concat(li, axis=0, ignore_index=True)"
   ]
  },
  {
   "cell_type": "markdown",
   "metadata": {},
   "source": [
    "CD48"
   ]
  },
  {
   "cell_type": "code",
   "execution_count": 4,
   "metadata": {},
   "outputs": [],
   "source": [
    "all_files = glob.glob(\"Score csv/CD48_score/*.csv\")\n",
    "\n",
    "li = []\n",
    "\n",
    "for filename in all_files:\n",
    "    df = pd.read_csv(filename, index_col=None, header=0)\n",
    "    li.append(df)\n",
    "\n",
    "CD48List = pd.concat(li, axis=0, ignore_index=True)"
   ]
  },
  {
   "cell_type": "markdown",
   "metadata": {},
   "source": [
    "cKIT"
   ]
  },
  {
   "cell_type": "code",
   "execution_count": 5,
   "metadata": {},
   "outputs": [],
   "source": [
    "all_files = glob.glob(\"Score csv/cKIT_score/*.csv\")\n",
    "\n",
    "li = []\n",
    "\n",
    "for filename in all_files:\n",
    "    df = pd.read_csv(filename, index_col=None, header=0)\n",
    "    li.append(df)\n",
    "\n",
    "cKITList = pd.concat(li, axis=0, ignore_index=True)"
   ]
  },
  {
   "cell_type": "markdown",
   "metadata": {},
   "source": [
    "### Get Control Statistics"
   ]
  },
  {
   "cell_type": "markdown",
   "metadata": {},
   "source": [
    "B2AR Ligand - Epinephrine Norepinephrine"
   ]
  },
  {
   "cell_type": "code",
   "execution_count": 144,
   "metadata": {},
   "outputs": [],
   "source": [
    "B2AR_Ligand_Epi = pd.read_csv(\"Score csv/B2AR_score/B2AR_Epi_score.csv\")\n",
    "B2AR_Ligand_Nore = pd.read_csv(\"Score csv/B2AR_score/B2AR_Nore_score.csv\")"
   ]
  },
  {
   "cell_type": "markdown",
   "metadata": {},
   "source": [
    "CD38 Ligand"
   ]
  },
  {
   "cell_type": "code",
   "execution_count": 146,
   "metadata": {},
   "outputs": [],
   "source": [
    "CD38_Ligand_CD38L = pd.read_csv(\"Score csv/CD38_score/CD38_CD38L_score.csv\")"
   ]
  },
  {
   "cell_type": "markdown",
   "metadata": {},
   "source": [
    "cKIT LIgand"
   ]
  },
  {
   "cell_type": "code",
   "execution_count": 147,
   "metadata": {},
   "outputs": [],
   "source": [
    "cKIT_Ligand_cKITL = pd.read_csv(\"Score csv/cKIT_score/cKIT_cKITL_score.csv\")"
   ]
  },
  {
   "cell_type": "markdown",
   "metadata": {},
   "source": [
    "### Mean of Control"
   ]
  },
  {
   "cell_type": "code",
   "execution_count": 154,
   "metadata": {},
   "outputs": [],
   "source": [
    "meanB2AREpi = B2AR_Ligand_Epi['vina_affinity'].mean()\n",
    "meanB2ARNore = B2AR_Ligand_Nore['vina_affinity'].mean()\n",
    "meanCD38L = CD38_Ligand_CD38L['vina_affinity'].mean()\n",
    "meancKITL = cKIT_Ligand_cKITL['vina_affinity'].mean()"
   ]
  },
  {
   "cell_type": "markdown",
   "metadata": {},
   "source": [
    "Epinephrine"
   ]
  },
  {
   "cell_type": "code",
   "execution_count": 151,
   "metadata": {},
   "outputs": [
    {
     "data": {
      "text/plain": [
       "-6.48216265712834"
      ]
     },
     "execution_count": 151,
     "metadata": {},
     "output_type": "execute_result"
    }
   ],
   "source": [
    "meanB2AREpi"
   ]
  },
  {
   "cell_type": "markdown",
   "metadata": {},
   "source": [
    "Norepinephrine"
   ]
  },
  {
   "cell_type": "code",
   "execution_count": 152,
   "metadata": {},
   "outputs": [
    {
     "data": {
      "text/plain": [
       "-6.295369973335689"
      ]
     },
     "execution_count": 152,
     "metadata": {},
     "output_type": "execute_result"
    }
   ],
   "source": [
    "meanB2ARNore"
   ]
  },
  {
   "cell_type": "markdown",
   "metadata": {},
   "source": [
    "CD38 Ligand"
   ]
  },
  {
   "cell_type": "code",
   "execution_count": 158,
   "metadata": {},
   "outputs": [
    {
     "data": {
      "text/plain": [
       "-8.45040826161693"
      ]
     },
     "execution_count": 158,
     "metadata": {},
     "output_type": "execute_result"
    }
   ],
   "source": [
    "meanCD38L"
   ]
  },
  {
   "cell_type": "markdown",
   "metadata": {},
   "source": [
    "cKIT Ligand"
   ]
  },
  {
   "cell_type": "code",
   "execution_count": 159,
   "metadata": {},
   "outputs": [
    {
     "data": {
      "text/plain": [
       "-4.396736733431734"
      ]
     },
     "execution_count": 159,
     "metadata": {},
     "output_type": "execute_result"
    }
   ],
   "source": [
    "meancKITL"
   ]
  },
  {
   "cell_type": "markdown",
   "metadata": {},
   "source": [
    "### Standard Deviation"
   ]
  },
  {
   "cell_type": "code",
   "execution_count": 157,
   "metadata": {},
   "outputs": [],
   "source": [
    "B2AREpi_sd = B2AR_Ligand_Epi['vina_affinity'].std()\n",
    "B2ARNore_sd = B2AR_Ligand_Nore['vina_affinity'].std()\n",
    "CD38L_sd = CD38_Ligand_CD38L['vina_affinity'].std()\n",
    "cKITL_sd = cKIT_Ligand_cKITL['vina_affinity'].std()"
   ]
  },
  {
   "cell_type": "markdown",
   "metadata": {},
   "source": [
    "Epinephrine - B2AR"
   ]
  },
  {
   "cell_type": "code",
   "execution_count": 161,
   "metadata": {},
   "outputs": [
    {
     "data": {
      "text/plain": [
       "0.43180260744683174"
      ]
     },
     "execution_count": 161,
     "metadata": {},
     "output_type": "execute_result"
    }
   ],
   "source": [
    "B2AREpi_sd"
   ]
  },
  {
   "cell_type": "markdown",
   "metadata": {},
   "source": [
    "Norepinephrine - B2AR"
   ]
  },
  {
   "cell_type": "code",
   "execution_count": 162,
   "metadata": {},
   "outputs": [
    {
     "data": {
      "text/plain": [
       "0.495558391478932"
      ]
     },
     "execution_count": 162,
     "metadata": {},
     "output_type": "execute_result"
    }
   ],
   "source": [
    "B2ARNore_sd"
   ]
  },
  {
   "cell_type": "markdown",
   "metadata": {},
   "source": [
    "CD38 Ligand"
   ]
  },
  {
   "cell_type": "code",
   "execution_count": 163,
   "metadata": {},
   "outputs": [
    {
     "data": {
      "text/plain": [
       "0.4049997265057545"
      ]
     },
     "execution_count": 163,
     "metadata": {},
     "output_type": "execute_result"
    }
   ],
   "source": [
    "CD38L_sd"
   ]
  },
  {
   "cell_type": "markdown",
   "metadata": {},
   "source": [
    "cKIT Ligand"
   ]
  },
  {
   "cell_type": "code",
   "execution_count": 164,
   "metadata": {},
   "outputs": [
    {
     "data": {
      "text/plain": [
       "1.0209282929569703"
      ]
     },
     "execution_count": 164,
     "metadata": {},
     "output_type": "execute_result"
    }
   ],
   "source": [
    "cKITL_sd"
   ]
  },
  {
   "cell_type": "markdown",
   "metadata": {},
   "source": [
    "### Sort Data"
   ]
  },
  {
   "cell_type": "code",
   "execution_count": 133,
   "metadata": {},
   "outputs": [],
   "source": [
    "#sort lists lowest to highest docking affinity\n",
    "sortedB2AR = B2ARList.sort_values(by=['vina_affinity'])\n",
    "sortedCD38 = CD38List.sort_values(by=['vina_affinity'])\n",
    "sortedCD48 = CD48List.sort_values(by=['vina_affinity'])\n",
    "sortedcKIT = cKITList.sort_values(by=['vina_affinity'])\n",
    "\n",
    "#Get top 50 scoring ligands by docking affinity\n",
    "B2ARTop = sortedB2AR.head(n=50)\n",
    "CD38Top = sortedCD38.head(n=50)\n",
    "CD48Top = sortedCD48.head(n=50)\n",
    "cKITTop = sortedcKIT.head(n=50)\n",
    "\n",
    "#Save Full Ligand List\n",
    "sortedB2AR.to_csv('B2AR_Total_List.csv')\n",
    "sortedCD38.to_csv('CD38_Total_List.csv')\n",
    "sortedCD48.to_csv('CD48_Total_List.csv')\n",
    "sortedcKIT.to_csv('cKIT_Total_List.csv')\n",
    "\n",
    "#Save Top 50 Ligand List\n",
    "B2ARTop.to_csv('B2AR_Top.csv')\n",
    "CD38Top.to_csv('CD38_Top.csv')\n",
    "CD48Top.to_csv('CD48_Top.csv')\n",
    "cKITTop.to_csv('cKIT_Top.csv')"
   ]
  },
  {
   "cell_type": "markdown",
   "metadata": {},
   "source": [
    "### Plot Highest Binding Affinity Ligands against RF-score "
   ]
  },
  {
   "cell_type": "markdown",
   "metadata": {},
   "source": [
    "#### B2AR"
   ]
  },
  {
   "cell_type": "code",
   "execution_count": 169,
   "metadata": {},
   "outputs": [
    {
     "ename": "TypeError",
     "evalue": "'list' object is not callable",
     "output_type": "error",
     "traceback": [
      "\u001b[0;31m---------------------------------------------------------------------------\u001b[0m",
      "\u001b[0;31mTypeError\u001b[0m                                 Traceback (most recent call last)",
      "\u001b[0;32m<ipython-input-169-0bf975fd0be6>\u001b[0m in \u001b[0;36m<module>\u001b[0;34m\u001b[0m\n\u001b[1;32m      1\u001b[0m \u001b[0mfig\u001b[0m \u001b[0;34m=\u001b[0m \u001b[0mcategory_scatter\u001b[0m\u001b[0;34m(\u001b[0m\u001b[0mx\u001b[0m\u001b[0;34m=\u001b[0m\u001b[0;34m'vina_affinity'\u001b[0m\u001b[0;34m,\u001b[0m\u001b[0my\u001b[0m\u001b[0;34m=\u001b[0m\u001b[0;34m'rfscore_v3'\u001b[0m\u001b[0;34m,\u001b[0m\u001b[0mlabel_col\u001b[0m\u001b[0;34m=\u001b[0m\u001b[0;34m'name'\u001b[0m\u001b[0;34m,\u001b[0m\u001b[0mdata\u001b[0m\u001b[0;34m=\u001b[0m\u001b[0mB2ARTop\u001b[0m\u001b[0;34m,\u001b[0m\u001b[0mlegend_loc\u001b[0m\u001b[0;34m=\u001b[0m\u001b[0;36m0\u001b[0m\u001b[0;34m)\u001b[0m\u001b[0;34m\u001b[0m\u001b[0;34m\u001b[0m\u001b[0m\n\u001b[1;32m      2\u001b[0m \u001b[0mfig\u001b[0m\u001b[0;34m.\u001b[0m\u001b[0mset_size_inches\u001b[0m\u001b[0;34m(\u001b[0m\u001b[0;36m6\u001b[0m\u001b[0;34m,\u001b[0m\u001b[0;36m6\u001b[0m\u001b[0;34m)\u001b[0m\u001b[0;34m\u001b[0m\u001b[0;34m\u001b[0m\u001b[0m\n\u001b[0;32m----> 3\u001b[0;31m \u001b[0mfig\u001b[0m\u001b[0;34m.\u001b[0m\u001b[0maxes\u001b[0m\u001b[0;34m(\u001b[0m\u001b[0mxlabel\u001b[0m\u001b[0;34m=\u001b[0m\u001b[0;34m'tst'\u001b[0m\u001b[0;34m)\u001b[0m\u001b[0;34m\u001b[0m\u001b[0;34m\u001b[0m\u001b[0m\n\u001b[0m\u001b[1;32m      4\u001b[0m \u001b[0mfig\u001b[0m\u001b[0;34m.\u001b[0m\u001b[0mlegend\u001b[0m\u001b[0;34m(\u001b[0m\u001b[0mbbox_to_anchor\u001b[0m\u001b[0;34m=\u001b[0m\u001b[0;34m(\u001b[0m\u001b[0;36m1.25\u001b[0m\u001b[0;34m,\u001b[0m\u001b[0;36m.7\u001b[0m\u001b[0;34m)\u001b[0m\u001b[0;34m)\u001b[0m\u001b[0;34m\u001b[0m\u001b[0;34m\u001b[0m\u001b[0m\n\u001b[1;32m      5\u001b[0m \u001b[0mfig\u001b[0m\u001b[0;34m.\u001b[0m\u001b[0mgca\u001b[0m\u001b[0;34m(\u001b[0m\u001b[0;34m)\u001b[0m\u001b[0;34m.\u001b[0m\u001b[0minvert_xaxis\u001b[0m\u001b[0;34m(\u001b[0m\u001b[0;34m)\u001b[0m\u001b[0;34m\u001b[0m\u001b[0;34m\u001b[0m\u001b[0m\n",
      "\u001b[0;31mTypeError\u001b[0m: 'list' object is not callable"
     ]
    },
    {
     "data": {
      "image/png": "[encoded data removed]",
      "text/plain": [
       "<Figure size 432x432 with 1 Axes>"
      ]
     },
     "metadata": {
      "needs_background": "light"
     },
     "output_type": "display_data"
    }
   ],
   "source": [
    "fig = category_scatter(x='vina_affinity',y='rfscore_v3',label_col='name',data=B2ARTop,legend_loc=0)\n",
    "fig.set_size_inches(6,6)\n",
    "fig.axes(xlabel='tst')\n",
    "fig.legend(bbox_to_anchor=(1.25,.7))\n",
    "fig.gca().invert_xaxis()\n",
    "\n",
    "fig.savefig('B2ARTop50.png',bbox_inches='tight')"
   ]
  },
  {
   "cell_type": "markdown",
   "metadata": {},
   "source": [
    "#### CD38"
   ]
  },
  {
   "cell_type": "code",
   "execution_count": 165,
   "metadata": {},
   "outputs": [
    {
     "data": {
      "image/png": "[encoded data removed]",
      "text/plain": [
       "<Figure size 432x432 with 1 Axes>"
      ]
     },
     "metadata": {
      "needs_background": "light"
     },
     "output_type": "display_data"
    }
   ],
   "source": [
    "fig = category_scatter(x='vina_affinity',y='rfscore_v3',label_col='name',data=CD38Top,legend_loc=0)\n",
    "fig.set_size_inches(6,6)\n",
    "fig.legend(bbox_to_anchor=(1.21,.7))\n",
    "fig.gca().invert_xaxis()\n",
    "fig.savefig('CD38Top50.png',bbox_inches='tight')"
   ]
  },
  {
   "cell_type": "markdown",
   "metadata": {},
   "source": [
    "#### CD48"
   ]
  },
  {
   "cell_type": "code",
   "execution_count": 167,
   "metadata": {},
   "outputs": [
    {
     "data": {
      "image/png": "[encoded data removed]",
      "text/plain": [
       "<Figure size 432x432 with 1 Axes>"
      ]
     },
     "metadata": {
      "needs_background": "light"
     },
     "output_type": "display_data"
    }
   ],
   "source": [
    "fig = category_scatter(x='vina_affinity',y='rfscore_v3',label_col='name',data=CD48Top,legend_loc=0)\n",
    "fig.set_size_inches(6,6)\n",
    "fig.legend(bbox_to_anchor=(1.21,.8))\n",
    "fig.gca().invert_xaxis()\n",
    "fig.savefig('CD48Top50.png',bbox_inches='tight')"
   ]
  },
  {
   "cell_type": "markdown",
   "metadata": {},
   "source": [
    "#### cKIT"
   ]
  },
  {
   "cell_type": "code",
   "execution_count": 166,
   "metadata": {},
   "outputs": [
    {
     "data": {
      "image/png": "[encoded data removed]",
      "text/plain": [
       "<Figure size 432x432 with 1 Axes>"
      ]
     },
     "metadata": {
      "needs_background": "light"
     },
     "output_type": "display_data"
    }
   ],
   "source": [
    "fig = category_scatter(x='vina_affinity',y='rfscore_v3',label_col='name',data=cKITTop,legend_loc=0)\n",
    "fig.set_size_inches(6,6)\n",
    "fig.legend(bbox_to_anchor=(1.2,.8))\n",
    "fig.gca().invert_xaxis()\n",
    "fig.savefig('CKITTop50.png',bbox_inches='tight')"
   ]
  },
  {
   "cell_type": "markdown",
   "metadata": {},
   "source": [
    "## Plot Docked Ligands"
   ]
  },
  {
   "cell_type": "code",
   "execution_count": 140,
   "metadata": {},
   "outputs": [
    {
     "data": {
      "image/png": "[encoded data removed]",
      "text/plain": [
       "<Figure size 432x288 with 1 Axes>"
      ]
     },
     "metadata": {
      "needs_background": "light"
     },
     "output_type": "display_data"
    }
   ],
   "source": [
    "#Plot the docked Ligand against the receptor\n",
    "#Docked Ligand File\n",
    "mol = next(ot.toolkit.readfile('pdb', 'Docked_Ligands/CD38_docked/CD38_CD38L_dock.pdb'))                    \n",
    "#Receptor File\n",
    "mol2 = next(ot.toolkit.readfile('pdb', 'Receptor_Files/CD38.pdb'))   \n",
    "#Create 3D scatter plot\n",
    "fig = plt.figure()\n",
    "ax = fig.add_subplot(111, projection='3d')\n",
    "\n",
    "#Get atom coordinates from docked ligand/receptor files\n",
    "x=mol.coords[:,0]\n",
    "y=mol.coords[:,1]\n",
    "z=mol.coords[:,2]\n",
    "x1=mol2.coords[:,0]\n",
    "y1=mol2.coords[:,1]\n",
    "z1=mol2.coords[:,2]\n",
    "\n",
    "#Plot ligand atoms in red\n",
    "ax.scatter(x,y,z,c=\"red\")\n",
    "#Plot receptor atoms in green\n",
    "ax.scatter(x1,y1,z1,c=\"green\",s=1)\n",
    "ax.set_xlabel(\"x\")\n",
    "ax.set_ylabel(\"y\")\n",
    "\n",
    "fig.savefig('CD38_Example_Dock.png')"
   ]
  },
  {
   "cell_type": "code",
   "execution_count": null,
   "metadata": {},
   "outputs": [],
   "source": []
  }
 ],
 "metadata": {
  "kernelspec": {
   "display_name": "Python 3",
   "language": "python",
   "name": "python3"
  },
  "language_info": {
   "codemirror_mode": {
    "name": "ipython",
    "version": 3
   },
   "file_extension": ".py",
   "mimetype": "text/x-python",
   "name": "python",
   "nbconvert_exporter": "python",
   "pygments_lexer": "ipython3",
   "version": "3.7.4"
  }
 },
 "nbformat": 4,
 "nbformat_minor": 4
}
