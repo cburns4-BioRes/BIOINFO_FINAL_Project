{
 "cells": [
  {
   "cell_type": "markdown",
   "metadata": {},
   "source": [
    "## PREREQUISITES:"
   ]
  },
  {
   "cell_type": "markdown",
   "metadata": {},
   "source": [
    "### Download Open Drug Discovery Toolkit\n"
   ]
  },
  {
   "cell_type": "raw",
   "metadata": {},
   "source": [
    "%%bash\n",
    "conda install -c oddt oddt rdkit openbabel"
   ]
  },
  {
   "cell_type": "markdown",
   "metadata": {},
   "source": [
    "### Download wget"
   ]
  },
  {
   "cell_type": "raw",
   "metadata": {},
   "source": [
    "conda install -c anaconda wget "
   ]
  },
  {
   "cell_type": "markdown",
   "metadata": {},
   "source": [
    "### Download autodock vina"
   ]
  },
  {
   "cell_type": "raw",
   "metadata": {},
   "source": [
    "sudo apt install autodock-vina"
   ]
  },
  {
   "cell_type": "markdown",
   "metadata": {},
   "source": [
    "## VIRTUAL DRUG SCREENING"
   ]
  },
  {
   "cell_type": "markdown",
   "metadata": {},
   "source": [
    "### Download and Save Neurotransmitters 3D structure"
   ]
  },
  {
   "cell_type": "markdown",
   "metadata": {},
   "source": [
    "#### Download and rename the following Chemical Structures from Chemspyder"
   ]
  },
  {
   "cell_type": "markdown",
   "metadata": {},
   "source": [
    "*Neurotransmitters:*\n",
    "\n",
    "Dopamine\n",
    "Epinephrine\n",
    "GABA\n",
    "Glutamate\n",
    "Histamine\n",
    "Norepinephrine\n",
    "Serotonin\n",
    "Octopamine\n",
    "Synephrine\n",
    "Tryptamine\n",
    "N-methyltryptamine\n",
    "Anandamide\n",
    "2-Arachidonoylglycerol\n",
    "2-Arachidonyl glyceryl ether\n",
    "N-Arachidonoyl dopamine\n",
    "Virodhamine\n",
    "Nicotinamide adenine dinucleotide\n",
    "\n",
    "*Neuropeptides:*\n",
    "\n",
    "Bradykinin\n",
    "Urocortin\n",
    "Gastrin\n",
    "Cholecystokinin\n",
    "Proopiomelanocortin\n",
    "Secretin\n",
    "Vasoactive intestinal peptide\n",
    "Growth hormone–releasing hormone\n",
    "Somatostatin\n",
    "Neurokinin A\n",
    "Neurokinin B"
   ]
  },
  {
   "cell_type": "markdown",
   "metadata": {},
   "source": [
    "### Adjust Chemical Structure Files"
   ]
  },
  {
   "cell_type": "code",
   "execution_count": null,
   "metadata": {},
   "outputs": [],
   "source": [
    "%%bash\n",
    "#Neurotransmitters:\n",
    "babel -imol Dopamine.mol -omol2 Dopamine.mol2\n",
    "babel -imol Epinephrine.mol -omol2 Epinephrine.mol2\n",
    "babel -imol GABA.mol -omol2 GABA.mol2\n",
    "babel -imol Glutamate.mol -omol2 Glutamate.mol2\n",
    "babel -imol Histamine.mol -omol2 Histamine.mol2\n",
    "babel -imol Norepinephrine.mol -omol2 Norepinephrine.mol2\n",
    "babel -imol Serotonin.mol -omol2 Serotonin.mol2\n",
    "babel -imol Octopamine.mol -omol2 Octopamine.mol2\n",
    "babel -imol Synephrine.mol -omol2 Synephrine.mol2\n",
    "babel -imol Tryptamine.mol -omol2 Tryptamine.mol2\n",
    "babel -imol Nmethyltryptamine.mol -omol2 Nmethyltryptamine.mol2\n",
    "babel -imol Anandamide.mol -omol2 Anandamide.mol2\n",
    "babel -imol 2Arachidonoylglycerol.mol -omol2 2Arachidonoylglycerol.mol2\n",
    "babel -imol 2Arachidonylglycerylether.mol -omol2 2Arachidonylglycerylether.mol2\n",
    "babel -imol NArachidonoyldopamine.mol -omol2 NArachidonoyldopamine.mol2\n",
    "babel -imol Virodhamine.mol -omol2 Virodhamine.mol2\n",
    "babel -imol Nicotinamideadeninedinucleotide.mol -omol2 Nicotinamideadeninedinucleotide.mol2\n",
    "\n",
    "#Neuropeptides:\n",
    "babel -imol Bradykinin.mol -omol2 Bradykinin.mol2\n",
    "babel -imol Urocortin.mol -omol2 Urocortin.mol2\n",
    "babel -imol Gastrin.mol -omol2 Gastrin.mol2\n",
    "babel -imol Cholecystokinin.mol -omol2 Cholecystokinin.mol2\n",
    "babel -imol GHRP6.mol -omol2 GHRP6.mol2\n",
    "babel -imol Somatostatin.mol -omol2 Somatostatin.mol2\n",
    "babel -imol NeurokininA.mol -omol2 NeurokininA.mol2\n",
    "babel -imol NeurokininB.mol -omol2 NeurokininB.mol2"
   ]
  },
  {
   "cell_type": "markdown",
   "metadata": {},
   "source": [
    "### Ligand List"
   ]
  },
  {
   "cell_type": "raw",
   "metadata": {},
   "source": [
    "Dopamine.mol2\n",
    "Epinephrine.mol2\n",
    "GABA.mol2\n",
    "Glutamate.mol2\n",
    "Histamine.mol2\n",
    "Norepinephrine.mol2\n",
    "Serotonin.mol2\n",
    "Octopamine.mol2\n",
    "Synephrine.mol2\n",
    "Tryptamine.mol2\n",
    "Nmethyltryptamine.mol2\n",
    "Anandamide.mol2\n",
    "2Arachidonoylglycerol.mol2\n",
    "2Arachidonylglycerylether.mol2\n",
    "NArachidonoyldopamine.mol2\n",
    "Virodhamine.mol2\n",
    "Nicotinamideadeninedinucleotide.mol2\n",
    "Bradykinin.mol2\n",
    "Urocortin.mol2\n",
    "Gastrin.mol2\n",
    "Cholecystokinin.mol2\n",
    "GHRP6.mol2\n",
    "Somatostatin.mol2\n",
    "NeurokininA.mol2\n",
    "NeurokininB.mol2\n",
    "CD38Ligand_NAD.mol2\n",
    "CD48Ligand.mol2\n",
    "cKITLigand.mol2"
   ]
  },
  {
   "cell_type": "markdown",
   "metadata": {},
   "source": [
    "## Download and Save Receptors 3D Structure"
   ]
  },
  {
   "cell_type": "markdown",
   "metadata": {},
   "source": [
    "#### C-kit"
   ]
  },
  {
   "cell_type": "code",
   "execution_count": 7,
   "metadata": {},
   "outputs": [
    {
     "name": "stderr",
     "output_type": "stream",
     "text": [
      "--2019-12-08 14:26:10--  http://www.rcsb.org/pdb/files/2O26.pdb.gz\n",
      "Resolving www.rcsb.org... 132.249.213.190\n",
      "Connecting to www.rcsb.org|132.249.213.190|:80... connected.\n",
      "HTTP request sent, awaiting response... 301 Moved Permanently\n",
      "Location: http://files.rcsb.org/download/2O26.pdb.gz [following]\n",
      "--2019-12-08 14:26:10--  http://files.rcsb.org/download/2O26.pdb.gz\n",
      "Resolving files.rcsb.org... 132.249.213.91\n",
      "Connecting to files.rcsb.org|132.249.213.91|:80... connected.\n",
      "HTTP request sent, awaiting response... 200 OK\n",
      "Length: 328942 (321K) [application/octet-stream]\n",
      "Saving to: ‘2O26.pdb.gz’\n",
      "\n",
      "     0K .......... .......... .......... .......... .......... 15%  917K 0s\n",
      "    50K .......... .......... .......... .......... .......... 31%  690K 0s\n",
      "   100K .......... .......... .......... .......... .......... 46%  992K 0s\n",
      "   150K .......... .......... .......... .......... .......... 62%  986K 0s\n",
      "   200K .......... .......... .......... .......... .......... 77%  710K 0s\n",
      "   250K .......... .......... .......... .......... .......... 93%  644K 0s\n",
      "   300K .......... .......... .                               100%  692K=0.4s\n",
      "\n",
      "2019-12-08 14:26:11 (790 KB/s) - ‘2O26.pdb.gz’ saved [328942/328942]\n",
      "\n"
     ]
    }
   ],
   "source": [
    "%%bash\n",
    "wget http://www.rcsb.org/pdb/files/2O26.pdb.gz"
   ]
  },
  {
   "cell_type": "code",
   "execution_count": 8,
   "metadata": {},
   "outputs": [
    {
     "name": "stderr",
     "output_type": "stream",
     "text": [
      "1 molecule converted\n",
      "20 audit log messages \n"
     ]
    }
   ],
   "source": [
    "%%bash\n",
    "zcat 2O26.pdb.gz > cKIT.pdb\n",
    "babel -ipdb cKIT.pdb -omol2 cKIT.mol2"
   ]
  },
  {
   "cell_type": "markdown",
   "metadata": {},
   "source": [
    "#### Beta-2 adrenergic receptor"
   ]
  },
  {
   "cell_type": "code",
   "execution_count": 21,
   "metadata": {},
   "outputs": [
    {
     "name": "stderr",
     "output_type": "stream",
     "text": [
      "--2019-12-08 21:48:12--  https://swissmodel.expasy.org/repository/5de6d5468fd6f9fc7de1ddec.pdb\n",
      "Resolving swissmodel.expasy.org... 131.152.25.49\n",
      "Connecting to swissmodel.expasy.org|131.152.25.49|:443... connected.\n",
      "HTTP request sent, awaiting response... 200 OK\n",
      "Length: 220265 (215K) [text/plain]\n",
      "Saving to: ‘5de6d5468fd6f9fc7de1ddec.pdb’\n",
      "\n",
      "     0K .......... .......... .......... .......... .......... 23%  142K 1s\n",
      "    50K .......... .......... .......... .......... .......... 46%  286K 1s\n",
      "   100K .......... .......... .......... .......... .......... 69% 18.4M 0s\n",
      "   150K .......... .......... .......... .......... .......... 92% 24.9M 0s\n",
      "   200K .......... .....                                      100% 88.3K=0.7s\n",
      "\n",
      "2019-12-08 21:48:14 (307 KB/s) - ‘5de6d5468fd6f9fc7de1ddec.pdb’ saved [220265/220265]\n",
      "\n"
     ]
    }
   ],
   "source": [
    "%%bash\n",
    "wget https://swissmodel.expasy.org/repository/5de6d5468fd6f9fc7de1ddec.pdb"
   ]
  },
  {
   "cell_type": "markdown",
   "metadata": {},
   "source": [
    "### CD38"
   ]
  },
  {
   "cell_type": "code",
   "execution_count": 31,
   "metadata": {},
   "outputs": [
    {
     "name": "stderr",
     "output_type": "stream",
     "text": [
      "--2019-12-13 13:54:03--  https://swissmodel.expasy.org/repository/5de7e6bd02efd0bf8cd61ec6.pdb\n",
      "Resolving swissmodel.expasy.org (swissmodel.expasy.org)... 131.152.25.49\n",
      "Connecting to swissmodel.expasy.org (swissmodel.expasy.org)|131.152.25.49|:443... connected.\n",
      "HTTP request sent, awaiting response... 200 OK\n",
      "Length: 138517 (135K) [text/plain]\n",
      "Saving to: ‘5de7e6bd02efd0bf8cd61ec6.pdb’\n",
      "\n",
      "     0K .......... .......... .......... .......... .......... 36%  142K 1s\n",
      "    50K .......... .......... .......... .......... .......... 73%  284K 0s\n",
      "   100K .......... .......... .......... .....                100% 19.6M=0.5s\n",
      "\n",
      "2019-12-13 13:54:05 (255 KB/s) - ‘5de7e6bd02efd0bf8cd61ec6.pdb’ saved [138517/138517]\n",
      "\n"
     ]
    }
   ],
   "source": [
    "%%bash\n",
    "wget https://swissmodel.expasy.org/repository/5de7e6bd02efd0bf8cd61ec6.pdb"
   ]
  },
  {
   "cell_type": "markdown",
   "metadata": {},
   "source": [
    "### CD48"
   ]
  },
  {
   "cell_type": "code",
   "execution_count": 38,
   "metadata": {},
   "outputs": [
    {
     "name": "stderr",
     "output_type": "stream",
     "text": [
      "--2019-12-13 17:41:45--  https://swissmodel.expasy.org/repository/57ac748278ed584d1d50aa16.pdb\n",
      "Resolving swissmodel.expasy.org (swissmodel.expasy.org)... 131.152.25.49\n",
      "Connecting to swissmodel.expasy.org (swissmodel.expasy.org)|131.152.25.49|:443... connected.\n",
      "HTTP request sent, awaiting response... 200 OK\n",
      "Length: 128466 (125K) [text/plain]\n",
      "Saving to: ‘57ac748278ed584d1d50aa16.pdb’\n",
      "\n",
      "     0K .......... .......... .......... .......... .......... 39%  146K 1s\n",
      "    50K .......... .......... .......... .......... .......... 79%  293K 0s\n",
      "   100K .......... .......... .....                           100% 22.0M=0.5s\n",
      "\n",
      "2019-12-13 17:41:47 (244 KB/s) - ‘57ac748278ed584d1d50aa16.pdb’ saved [128466/128466]\n",
      "\n"
     ]
    }
   ],
   "source": [
    "%%bash\n",
    "wget https://swissmodel.expasy.org/repository/57ac748278ed584d1d50aa16.pdb"
   ]
  },
  {
   "cell_type": "markdown",
   "metadata": {},
   "source": [
    "# Detemine Docking and Binding Affinity"
   ]
  },
  {
   "cell_type": "markdown",
   "metadata": {},
   "source": [
    "### Intialize"
   ]
  },
  {
   "cell_type": "code",
   "execution_count": 1,
   "metadata": {},
   "outputs": [],
   "source": [
    "from oddt.virtualscreening import virtualscreening as vs\n",
    "import oddt as ot\n",
    "import oddt.docking\n",
    "import warnings\n",
    "warnings.simplefilter(action='ignore', category=FutureWarning)\n",
    "import pandas as pd\n",
    "import matplotlib.pyplot as plt\n",
    "from mpl_toolkits.mplot3d import Axes3D\n",
    "from Bio.PDB import PDBParser"
   ]
  },
  {
   "cell_type": "markdown",
   "metadata": {},
   "source": [
    "### Get Ligand List and Intialize virtualscreen and dock"
   ]
  },
  {
   "cell_type": "markdown",
   "metadata": {},
   "source": [
    "B2AR"
   ]
  },
  {
   "cell_type": "code",
   "execution_count": 72,
   "metadata": {},
   "outputs": [
    {
     "name": "stderr",
     "output_type": "stream",
     "text": [
      "/home/cburns4/anaconda3/lib/python3.7/site-packages/oddt/virtualscreening.py:345: UserWarning: The chunksize (10) seams to be to large.\n",
      "  % self.chunksize)\n",
      "/home/cburns4/anaconda3/lib/python3.7/site-packages/oddt/virtualscreening.py:351: UserWarning: Falling back to sub-methods multithreading as the number of molecules is less than cores (1 < 4)\n",
      "  '(%i < %i)' % (len(first_chunk),  self.n_cpu))\n"
     ]
    }
   ],
   "source": [
    "protein = next(ot.toolkit.readfile('pdb', 'B2AdrenergicR.pdb'))\n",
    "protein.protein = True\n",
    "NeuroScan = vs(n_cpu=4,chunksize=10)\n",
    "NeuroScan.dock(engine=\"autodock_vina\",protein=protein,size=(50, 80, 50),center=(-35, 35, 15))\n",
    "NeuroScan.score(function=\"rfscore_v3\",protein=protein)\n",
    "\n",
    "#Dopamine\n",
    "NeuroScan.load_ligands('mol2','Dopamine.mol2')\n",
    "NeuroScan.write('pdb','B2AR_Dop_dock.pdb')\n",
    "NeuroScan.write_csv('B2AR_Dop_score.csv')\n",
    "#Epinephrine\n",
    "NeuroScan.load_ligands('mol2','Epinephrine.mol2')\n",
    "NeuroScan.write('pdb','B2AR_Epi_dock.pdb')\n",
    "NeuroScan.write_csv('B2AR_Epi_score.csv')\n",
    "#GABA\n",
    "NeuroScan.load_ligands('mol2','GABA.mol2')\n",
    "NeuroScan.write('pdb','B2AR_GABA_dock.pdb')\n",
    "NeuroScan.write_csv('B2AR_GABA_score.csv')\n",
    "#Glutamate\n",
    "NeuroScan.load_ligands('mol2','Glutamate.mol2')\n",
    "NeuroScan.write('pdb','B2AR_Glut_dock.pdb')\n",
    "NeuroScan.write_csv('B2AR_Glut_score.csv')\n",
    "#Histamine\n",
    "NeuroScan.load_ligands('mol2','Histamine.mol2')\n",
    "NeuroScan.write('pdb','B2AR_Hist_dock.pdb')\n",
    "NeuroScan.write_csv('B2AR_Hist_score.csv')\n",
    "#Norepinephrine\n",
    "NeuroScan.load_ligands('mol2','Norepinephrine.mol2')\n",
    "NeuroScan.write('pdb','B2AR_Nore_dock.pdb')\n",
    "NeuroScan.write_csv('B2AR_Nore_score.csv')\n",
    "#Serotonin\n",
    "NeuroScan.load_ligands('mol2','Serotonin.mol2')\n",
    "NeuroScan.write('pdb','B2AR_Sero_dock.pdb')\n",
    "NeuroScan.write_csv('B2AR_Sero_score.csv')\n",
    "#Octopamine\n",
    "NeuroScan.load_ligands('mol2','Octopamine.mol2')\n",
    "NeuroScan.write('pdb','B2AR_Octo_dock.pdb')\n",
    "NeuroScan.write_csv('B2AR_Octo_score.csv')\n",
    "#Synephrine\n",
    "NeuroScan.load_ligands('mol2','Synephrine.mol2')\n",
    "NeuroScan.write('pdb','B2AR_Syn_dock.pdb')\n",
    "NeuroScan.write_csv('B2AR_Syn_score.csv')\n",
    "#Tryptamine\n",
    "NeuroScan.load_ligands('mol2','Tryptamine.mol2')\n",
    "NeuroScan.write('pdb','B2AR_Tryp_dock.pdb')\n",
    "NeuroScan.write_csv('B2AR_Tryp_score.csv')\n",
    "#N-methyltryptamine\n",
    "NeuroScan.load_ligands('mol2','Nmethyltryptamine.mol2')\n",
    "NeuroScan.write('pdb','B2AR_Nmet_dock.pdb')\n",
    "NeuroScan.write_csv('B2AR_Nmet_score.csv')\n",
    "#Anandamide\n",
    "NeuroScan.load_ligands('mol2','Anandamide.mol2')\n",
    "NeuroScan.write('pdb','B2AR_Anan_dock.pdb')\n",
    "NeuroScan.write_csv('B2AR_Anan_score.csv')\n",
    "#2Arachidonoylglycerol\n",
    "NeuroScan.load_ligands('mol2','2Arachidonoylglycerol.mol2')\n",
    "NeuroScan.write('pdb','B2AR_2Ara_dock.pdb')\n",
    "NeuroScan.write_csv('B2AR_2Ara_score.csv')\n",
    "#2Arachidonylglycerylether\n",
    "NeuroScan.load_ligands('mol2','2Arachidonylglycerylether.mol2')\n",
    "NeuroScan.write('pdb','B2AR_2Araether_dock.pdb')\n",
    "NeuroScan.write_csv('B2AR_2Araether_score.csv')\n",
    "#NArachidonoyldopamine\n",
    "NeuroScan.load_ligands('mol2','NArachidonoyldopamine.mol2')\n",
    "NeuroScan.write('pdb','B2AR_NAra_dock.pdb')\n",
    "NeuroScan.write_csv('B2AR_NAra_score.csv')\n",
    "#Virodhamine\n",
    "NeuroScan.load_ligands('mol2','Virodhamine.mol2')\n",
    "NeuroScan.write('pdb','B2AR_Viro_dock.pdb')\n",
    "NeuroScan.write_csv('B2AR_Viro_score.csv')\n",
    "#Nicotinamideadeninedinucleotide\n",
    "NeuroScan.load_ligands('mol2','Nicotinamideadeninedinucleotide.mol2')\n",
    "NeuroScan.write('pdb','B2AR_Nico_dock.pdb')\n",
    "NeuroScan.write_csv('B2AR_Nico_score.csv')\n",
    "#Bradykinin\n",
    "NeuroScan.load_ligands('mol2','Bradykinin.mol2')\n",
    "NeuroScan.write('pdb','B2AR_Brad_dock.pdb')\n",
    "NeuroScan.write_csv('B2AR_Brad_score.csv')\n",
    "#Urocortin\n",
    "NeuroScan.load_ligands('mol2','Urocortin.mol2')\n",
    "NeuroScan.write('pdb','B2AR_Uroc_dock.pdb')\n",
    "NeuroScan.write_csv('B2AR_Uroc_score.csv')\n",
    "#Gastrin\n",
    "NeuroScan.load_ligands('mol2','Gastrin.mol2')\n",
    "NeuroScan.write('pdb','B2AR_Gast_dock.pdb')\n",
    "NeuroScan.write_csv('B2AR_Gast_score.csv')\n",
    "#Cholecystokinin\n",
    "NeuroScan.load_ligands('mol2','Cholecystokinin.mol2')\n",
    "NeuroScan.write('pdb','B2AR_Chol_dock.pdb')\n",
    "NeuroScan.write_csv('B2AR_Chol_score.csv')\n",
    "#GHRP6\n",
    "NeuroScan.load_ligands('mol2','GHRP6.mol2')\n",
    "NeuroScan.write('pdb','B2AR_GHRP6_dock.pdb')\n",
    "NeuroScan.write_csv('B2AR_GHRP6_score.csv')\n",
    "#Somatostatin\n",
    "NeuroScan.load_ligands('mol2','Somatostatin.mol2')\n",
    "NeuroScan.write('pdb','B2AR_Soma_dock.pdb')\n",
    "NeuroScan.write_csv('B2AR_Soma_score.csv')\n",
    "#NeurokininA\n",
    "NeuroScan.load_ligands('mol2','NeurokininA.mol2')\n",
    "NeuroScan.write('pdb','B2AR_NeuA_dock.pdb')\n",
    "NeuroScan.write_csv('B2AR_NeuA_score.csv')\n",
    "#NeurokininA\n",
    "NeuroScan.load_ligands('mol2','NeurokininB.mol2')\n",
    "NeuroScan.write('pdb','B2AR_NeuB_dock.pdb')\n",
    "NeuroScan.write_csv('B2AR_NeuB_score.csv')"
   ]
  },
  {
   "cell_type": "markdown",
   "metadata": {},
   "source": [
    "cKIT"
   ]
  },
  {
   "cell_type": "code",
   "execution_count": 14,
   "metadata": {},
   "outputs": [
    {
     "name": "stderr",
     "output_type": "stream",
     "text": [
      "/home/cburns4/anaconda3/lib/python3.7/site-packages/oddt/virtualscreening.py:345: UserWarning: The chunksize (10) seams to be to large.\n",
      "  % self.chunksize)\n",
      "/home/cburns4/anaconda3/lib/python3.7/site-packages/oddt/virtualscreening.py:351: UserWarning: Falling back to sub-methods multithreading as the number of molecules is less than cores (1 < 4)\n",
      "  '(%i < %i)' % (len(first_chunk),  self.n_cpu))\n"
     ]
    }
   ],
   "source": [
    "protein = next(ot.toolkit.readfile('pdb', 'cKIT.pdb'))\n",
    "protein.protein = True\n",
    "NeuroScan = vs(n_cpu=4,chunksize=10)\n",
    "NeuroScan.dock(engine=\"autodock_vina\",protein=protein,size=(120, 140, 120),center=(20, 20, 20))\n",
    "NeuroScan.score(function=\"rfscore_v3\",protein=protein)\n",
    "\n",
    "#Dopamine\n",
    "NeuroScan.load_ligands('mol2','Dopamine.mol2')\n",
    "NeuroScan.write('pdb','cKIT_Dop_dock.pdb')\n",
    "NeuroScan.write_csv('cKIT_Dop_score.csv')\n",
    "#Epinephrine\n",
    "NeuroScan.load_ligands('mol2','Epinephrine.mol2')\n",
    "NeuroScan.write('pdb','cKIT_Epi_dock.pdb')\n",
    "NeuroScan.write_csv('cKIT_Epi_score.csv')\n",
    "#GABA\n",
    "NeuroScan.load_ligands('mol2','GABA.mol2')\n",
    "NeuroScan.write('pdb','cKIT_GABA_dock.pdb')\n",
    "NeuroScan.write_csv('cKIT_GABA_score.csv')\n",
    "#Glutamate\n",
    "NeuroScan.load_ligands('mol2','Glutamate.mol2')\n",
    "NeuroScan.write('pdb','cKIT_Glut_dock.pdb')\n",
    "NeuroScan.write_csv('cKIT_Glut_score.csv')\n",
    "#Histamine\n",
    "NeuroScan.load_ligands('mol2','Histamine.mol2')\n",
    "NeuroScan.write('pdb','cKIT_Hist_dock.pdb')\n",
    "NeuroScan.write_csv('cKIT_Hist_score.csv')\n",
    "#Norepinephrine\n",
    "NeuroScan.load_ligands('mol2','Norepinephrine.mol2')\n",
    "NeuroScan.write('pdb','cKIT_Nore_dock.pdb')\n",
    "NeuroScan.write_csv('cKIT_Nore_score.csv')\n",
    "#Serotonin\n",
    "NeuroScan.load_ligands('mol2','Serotonin.mol2')\n",
    "NeuroScan.write('pdb','cKIT_Sero_dock.pdb')\n",
    "NeuroScan.write_csv('cKIT_Sero_score.csv')\n",
    "#Octopamine\n",
    "NeuroScan.load_ligands('mol2','Octopamine.mol2')\n",
    "NeuroScan.write('pdb','cKIT_Octo_dock.pdb')\n",
    "NeuroScan.write_csv('cKIT_Octo_score.csv')\n",
    "#Synephrine\n",
    "NeuroScan.load_ligands('mol2','Synephrine.mol2')\n",
    "NeuroScan.write('pdb','cKIT_Syn_dock.pdb')\n",
    "NeuroScan.write_csv('cKIT_Syn_score.csv')\n",
    "#Tryptamine\n",
    "NeuroScan.load_ligands('mol2','Tryptamine.mol2')\n",
    "NeuroScan.write('pdb','cKIT_Tryp_dock.pdb')\n",
    "NeuroScan.write_csv('cKIT_Tryp_score.csv')\n",
    "#N-methyltryptamine\n",
    "NeuroScan.load_ligands('mol2','Nmethyltryptamine.mol2')\n",
    "NeuroScan.write('pdb','cKIT_Nmet_dock.pdb')\n",
    "NeuroScan.write_csv('cKIT_Nmet_score.csv')\n",
    "#Anandamide\n",
    "NeuroScan.load_ligands('mol2','Anandamide.mol2')\n",
    "NeuroScan.write('pdb','cKIT_Anan_dock.pdb')\n",
    "NeuroScan.write_csv('cKIT_Anan_score.csv')\n",
    "#2Arachidonoylglycerol\n",
    "NeuroScan.load_ligands('mol2','2Arachidonoylglycerol.mol2')\n",
    "NeuroScan.write('pdb','cKIT_2Ara_dock.pdb')\n",
    "NeuroScan.write_csv('cKIT_2Ara_score.csv')\n",
    "#2Arachidonylglycerylether\n",
    "NeuroScan.load_ligands('mol2','2Arachidonylglycerylether.mol2')\n",
    "NeuroScan.write('pdb','cKIT_2Araether_dock.pdb')\n",
    "NeuroScan.write_csv('cKIT_2Araether_score.csv')\n",
    "#NArachidonoyldopamine\n",
    "NeuroScan.load_ligands('mol2','NArachidonoyldopamine.mol2')\n",
    "NeuroScan.write('pdb','cKIT_NAra_dock.pdb')\n",
    "NeuroScan.write_csv('cKIT_NAra_score.csv')\n",
    "#Virodhamine\n",
    "NeuroScan.load_ligands('mol2','Virodhamine.mol2')\n",
    "NeuroScan.write('pdb','cKIT_Viro_dock.pdb')\n",
    "NeuroScan.write_csv('cKIT_Viro_score.csv')\n",
    "#Nicotinamideadeninedinucleotide\n",
    "NeuroScan.load_ligands('mol2','Nicotinamideadeninedinucleotide.mol2')\n",
    "NeuroScan.write('pdb','cKIT_Nico_dock.pdb')\n",
    "NeuroScan.write_csv('cKIT_Nico_score.csv')\n",
    "#Bradykinin\n",
    "NeuroScan.load_ligands('mol2','Bradykinin.mol2')\n",
    "NeuroScan.write('pdb','cKIT_Brad_dock.pdb')\n",
    "NeuroScan.write_csv('cKIT_Brad_score.csv')\n",
    "#Urocortin\n",
    "NeuroScan.load_ligands('mol2','Urocortin.mol2')\n",
    "NeuroScan.write('pdb','cKIT_Uroc_dock.pdb')\n",
    "NeuroScan.write_csv('cKIT_Uroc_score.csv')\n",
    "#Gastrin\n",
    "NeuroScan.load_ligands('mol2','Gastrin.mol2')\n",
    "NeuroScan.write('pdb','cKIT_Gast_dock.pdb')\n",
    "NeuroScan.write_csv('cKIT_Gast_score.csv')\n",
    "#Cholecystokinin\n",
    "NeuroScan.load_ligands('mol2','Cholecystokinin.mol2')\n",
    "NeuroScan.write('pdb','cKIT_Chol_dock.pdb')\n",
    "NeuroScan.write_csv('cKIT_Chol_score.csv')\n",
    "#GHRP6\n",
    "NeuroScan.load_ligands('mol2','GHRP6.mol2')\n",
    "NeuroScan.write('pdb','cKIT_GHRP6_dock.pdb')\n",
    "NeuroScan.write_csv('cKIT_GHRP6_score.csv')\n",
    "#Somatostatin\n",
    "NeuroScan.load_ligands('mol2','Somatostatin.mol2')\n",
    "NeuroScan.write('pdb','cKIT_Soma_dock.pdb')\n",
    "NeuroScan.write_csv('cKIT_Soma_score.csv')\n",
    "#NeurokininA\n",
    "NeuroScan.load_ligands('mol2','NeurokininA.mol2')\n",
    "NeuroScan.write('pdb','cKIT_NeuA_dock.pdb')\n",
    "NeuroScan.write_csv('cKIT_NeuA_score.csv')\n",
    "#NeurokininB\n",
    "NeuroScan.load_ligands('mol2','NeurokininB.mol2')\n",
    "NeuroScan.write('pdb','cKIT_NeuB_dock.pdb')\n",
    "NeuroScan.write_csv('cKIT_NeuB_score.csv')\n",
    "#cKIT Ligand\n",
    "NeuroScan.load_ligands('mol2','cKITLigand.mol2')\n",
    "NeuroScan.write('pdb','cKIT_CKITL_dock.pdb')\n",
    "NeuroScan.write_csv('cKIT_cKITL_score.csv')"
   ]
  },
  {
   "cell_type": "markdown",
   "metadata": {},
   "source": [
    "CD38"
   ]
  },
  {
   "cell_type": "code",
   "execution_count": 15,
   "metadata": {},
   "outputs": [
    {
     "name": "stderr",
     "output_type": "stream",
     "text": [
      "/home/cburns4/anaconda3/lib/python3.7/site-packages/oddt/virtualscreening.py:345: UserWarning: The chunksize (10) seams to be to large.\n",
      "  % self.chunksize)\n",
      "/home/cburns4/anaconda3/lib/python3.7/site-packages/oddt/virtualscreening.py:351: UserWarning: Falling back to sub-methods multithreading as the number of molecules is less than cores (1 < 4)\n",
      "  '(%i < %i)' % (len(first_chunk),  self.n_cpu))\n"
     ]
    }
   ],
   "source": [
    "protein = next(ot.toolkit.readfile('pdb', 'CD38.pdb'))\n",
    "protein.protein = True\n",
    "NeuroScan = vs(n_cpu=4,chunksize=10)\n",
    "NeuroScan.dock(engine=\"autodock_vina\",protein=protein,size=(40, 50, 50),center=(12, 5, 5))\n",
    "NeuroScan.score(function=\"rfscore_v3\",protein=protein)\n",
    "\n",
    "#Dopamine\n",
    "NeuroScan.load_ligands('mol2','Dopamine.mol2')\n",
    "NeuroScan.write('pdb','CD38_Dop_dock.pdb')\n",
    "NeuroScan.write_csv('CD38_Dop_score.csv')\n",
    "#Epinephrine\n",
    "NeuroScan.load_ligands('mol2','Epinephrine.mol2')\n",
    "NeuroScan.write('pdb','CD38_Epi_dock.pdb')\n",
    "NeuroScan.write_csv('CD38_Epi_score.csv')\n",
    "#GABA\n",
    "NeuroScan.load_ligands('mol2','GABA.mol2')\n",
    "NeuroScan.write('pdb','CD38_GABA_dock.pdb')\n",
    "NeuroScan.write_csv('CD38_GABA_score.csv')\n",
    "#Glutamate\n",
    "NeuroScan.load_ligands('mol2','Glutamate.mol2')\n",
    "NeuroScan.write('pdb','CD38_Glut_dock.pdb')\n",
    "NeuroScan.write_csv('CD38_Glut_score.csv')\n",
    "#Histamine\n",
    "NeuroScan.load_ligands('mol2','Histamine.mol2')\n",
    "NeuroScan.write('pdb','CD38_Hist_dock.pdb')\n",
    "NeuroScan.write_csv('CD38_Hist_score.csv')\n",
    "#Norepinephrine\n",
    "NeuroScan.load_ligands('mol2','Norepinephrine.mol2')\n",
    "NeuroScan.write('pdb','CD38_Nore_dock.pdb')\n",
    "NeuroScan.write_csv('CD38_Nore_score.csv')\n",
    "#Serotonin\n",
    "NeuroScan.load_ligands('mol2','Serotonin.mol2')\n",
    "NeuroScan.write('pdb','CD38_Sero_dock.pdb')\n",
    "NeuroScan.write_csv('CD38_Sero_score.csv')\n",
    "#Octopamine\n",
    "NeuroScan.load_ligands('mol2','Octopamine.mol2')\n",
    "NeuroScan.write('pdb','CD38_Octo_dock.pdb')\n",
    "NeuroScan.write_csv('CD38_Octo_score.csv')\n",
    "#Synephrine\n",
    "NeuroScan.load_ligands('mol2','Synephrine.mol2')\n",
    "NeuroScan.write('pdb','CD38_Syn_dock.pdb')\n",
    "NeuroScan.write_csv('CD38_Syn_score.csv')\n",
    "#Tryptamine\n",
    "NeuroScan.load_ligands('mol2','Tryptamine.mol2')\n",
    "NeuroScan.write('pdb','CD38_Tryp_dock.pdb')\n",
    "NeuroScan.write_csv('CD38_Tryp_score.csv')\n",
    "#N-methyltryptamine\n",
    "NeuroScan.load_ligands('mol2','Nmethyltryptamine.mol2')\n",
    "NeuroScan.write('pdb','CD38_Nmet_dock.pdb')\n",
    "NeuroScan.write_csv('CD38_Nmet_score.csv')\n",
    "#Anandamide\n",
    "NeuroScan.load_ligands('mol2','Anandamide.mol2')\n",
    "NeuroScan.write('pdb','CD38_Anan_dock.pdb')\n",
    "NeuroScan.write_csv('CD38_Anan_score.csv')\n",
    "#2Arachidonoylglycerol\n",
    "NeuroScan.load_ligands('mol2','2Arachidonoylglycerol.mol2')\n",
    "NeuroScan.write('pdb','CD38_2Ara_dock.pdb')\n",
    "NeuroScan.write_csv('CD38_2Ara_score.csv')\n",
    "#2Arachidonylglycerylether\n",
    "NeuroScan.load_ligands('mol2','2Arachidonylglycerylether.mol2')\n",
    "NeuroScan.write('pdb','CD38_2Araether_dock.pdb')\n",
    "NeuroScan.write_csv('CD38_2Araether_score.csv')\n",
    "#NArachidonoyldopamine\n",
    "NeuroScan.load_ligands('mol2','NArachidonoyldopamine.mol2')\n",
    "NeuroScan.write('pdb','CD38_NAra_dock.pdb')\n",
    "NeuroScan.write_csv('CD38_NAra_score.csv')\n",
    "#Virodhamine\n",
    "NeuroScan.load_ligands('mol2','Virodhamine.mol2')\n",
    "NeuroScan.write('pdb','CD38_Viro_dock.pdb')\n",
    "NeuroScan.write_csv('CD38_Viro_score.csv')\n",
    "#Nicotinamideadeninedinucleotide\n",
    "NeuroScan.load_ligands('mol2','Nicotinamideadeninedinucleotide.mol2')\n",
    "NeuroScan.write('pdb','CD38_Nico_dock.pdb')\n",
    "NeuroScan.write_csv('CD38_Nico_score.csv')\n",
    "#Bradykinin\n",
    "NeuroScan.load_ligands('mol2','Bradykinin.mol2')\n",
    "NeuroScan.write('pdb','CD38_Brad_dock.pdb')\n",
    "NeuroScan.write_csv('CD38_Brad_score.csv')\n",
    "#Urocortin\n",
    "NeuroScan.load_ligands('mol2','Urocortin.mol2')\n",
    "NeuroScan.write('pdb','CD38_Uroc_dock.pdb')\n",
    "NeuroScan.write_csv('CD38_Uroc_score.csv')\n",
    "#Gastrin\n",
    "NeuroScan.load_ligands('mol2','Gastrin.mol2')\n",
    "NeuroScan.write('pdb','CD38_Gast_dock.pdb')\n",
    "NeuroScan.write_csv('CD38_Gast_score.csv')\n",
    "#Cholecystokinin\n",
    "NeuroScan.load_ligands('mol2','Cholecystokinin.mol2')\n",
    "NeuroScan.write('pdb','CD38_Chol_dock.pdb')\n",
    "NeuroScan.write_csv('CD38_Chol_score.csv')\n",
    "#GHRP6\n",
    "NeuroScan.load_ligands('mol2','GHRP6.mol2')\n",
    "NeuroScan.write('pdb','CD38_GHRP6_dock.pdb')\n",
    "NeuroScan.write_csv('CD38_GHRP6_score.csv')\n",
    "#Somatostatin\n",
    "NeuroScan.load_ligands('mol2','Somatostatin.mol2')\n",
    "NeuroScan.write('pdb','CD38_Soma_dock.pdb')\n",
    "NeuroScan.write_csv('CD38_Soma_score.csv')\n",
    "#NeurokininA\n",
    "NeuroScan.load_ligands('mol2','NeurokininA.mol2')\n",
    "NeuroScan.write('pdb','CD38_NeuA_dock.pdb')\n",
    "NeuroScan.write_csv('CD38_NeuA_score.csv')\n",
    "#NeurokininB\n",
    "NeuroScan.load_ligands('mol2','NeurokininB.mol2')\n",
    "NeuroScan.write('pdb','CD38_NeuB_dock.pdb')\n",
    "NeuroScan.write_csv('CD38_NeuB_score.csv')\n",
    "#CD38 Ligand\n",
    "NeuroScan.load_ligands('mol2','CD38Ligand_NAD.mol2')\n",
    "NeuroScan.write('pdb','CD38_CD38L_dock.pdb')\n",
    "NeuroScan.write_csv('CD38_CD38L_score.csv')"
   ]
  },
  {
   "cell_type": "markdown",
   "metadata": {},
   "source": [
    "CD48"
   ]
  },
  {
   "cell_type": "code",
   "execution_count": null,
   "metadata": {},
   "outputs": [],
   "source": [
    "protein = next(ot.toolkit.readfile('pdb', 'CD48.pdb'))\n",
    "protein.protein = True\n",
    "NeuroScan = vs(n_cpu=4,chunksize=10)\n",
    "NeuroScan.dock(engine=\"autodock_vina\",protein=protein,size=(60, 50, 80),center=(0, 45, 60))\n",
    "NeuroScan.score(function=\"rfscore_v3\",protein=protein)\n",
    "\n",
    "#Dopamine\n",
    "NeuroScan.load_ligands('mol2','Dopamine.mol2')\n",
    "NeuroScan.write('pdb','CD48_Dop_dock.pdb')\n",
    "NeuroScan.write_csv('CD48_Dop_score.csv')\n",
    "#Epinephrine\n",
    "NeuroScan.load_ligands('mol2','Epinephrine.mol2')\n",
    "NeuroScan.write('pdb','CD48_Epi_dock.pdb')\n",
    "NeuroScan.write_csv('CD48_Epi_score.csv')\n",
    "#GABA\n",
    "NeuroScan.load_ligands('mol2','GABA.mol2')\n",
    "NeuroScan.write('pdb','CD48_GABA_dock.pdb')\n",
    "NeuroScan.write_csv('CD48_GABA_score.csv')\n",
    "#Glutamate\n",
    "NeuroScan.load_ligands('mol2','Glutamate.mol2')\n",
    "NeuroScan.write('pdb','CD48_Glut_dock.pdb')\n",
    "NeuroScan.write_csv('CD48_Glut_score.csv')\n",
    "#Histamine\n",
    "NeuroScan.load_ligands('mol2','Histamine.mol2')\n",
    "NeuroScan.write('pdb','CD48_Hist_dock.pdb')\n",
    "NeuroScan.write_csv('CD48_Hist_score.csv')\n",
    "#Norepinephrine\n",
    "NeuroScan.load_ligands('mol2','Norepinephrine.mol2')\n",
    "NeuroScan.write('pdb','CD48_Nore_dock.pdb')\n",
    "NeuroScan.write_csv('CD48_Nore_score.csv')\n",
    "#Serotonin\n",
    "NeuroScan.load_ligands('mol2','Serotonin.mol2')\n",
    "NeuroScan.write('pdb','CD48_Sero_dock.pdb')\n",
    "NeuroScan.write_csv('CD48_Sero_score.csv')\n",
    "#Octopamine\n",
    "NeuroScan.load_ligands('mol2','Octopamine.mol2')\n",
    "NeuroScan.write('pdb','CD48_Octo_dock.pdb')\n",
    "NeuroScan.write_csv('CD48_Octo_score.csv')\n",
    "#Synephrine\n",
    "NeuroScan.load_ligands('mol2','Synephrine.mol2')\n",
    "NeuroScan.write('pdb','CD48_Syn_dock.pdb')\n",
    "NeuroScan.write_csv('CD48_Syn_score.csv')\n",
    "#Tryptamine\n",
    "NeuroScan.load_ligands('mol2','Tryptamine.mol2')\n",
    "NeuroScan.write('pdb','CD48_Tryp_dock.pdb')\n",
    "NeuroScan.write_csv('CD48_Tryp_score.csv')\n",
    "#N-methyltryptamine\n",
    "NeuroScan.load_ligands('mol2','Nmethyltryptamine.mol2')\n",
    "NeuroScan.write('pdb','CD48_Nmet_dock.pdb')\n",
    "NeuroScan.write_csv('CD48_Nmet_score.csv')\n",
    "#Anandamide\n",
    "NeuroScan.load_ligands('mol2','Anandamide.mol2')\n",
    "NeuroScan.write('pdb','CD48_Anan_dock.pdb')\n",
    "NeuroScan.write_csv('CD48_Anan_score.csv')\n",
    "#2Arachidonoylglycerol\n",
    "NeuroScan.load_ligands('mol2','2Arachidonoylglycerol.mol2')\n",
    "NeuroScan.write('pdb','CD48_2Ara_dock.pdb')\n",
    "NeuroScan.write_csv('CD48_2Ara_score.csv')\n",
    "#2Arachidonylglycerylether\n",
    "NeuroScan.load_ligands('mol2','2Arachidonylglycerylether.mol2')\n",
    "NeuroScan.write('pdb','CD48_2Araether_dock.pdb')\n",
    "NeuroScan.write_csv('CD48_2Araether_score.csv')\n",
    "#NArachidonoyldopamine\n",
    "NeuroScan.load_ligands('mol2','NArachidonoyldopamine.mol2')\n",
    "NeuroScan.write('pdb','CD48_NAra_dock.pdb')\n",
    "NeuroScan.write_csv('CD48_NAra_score.csv')\n",
    "#Virodhamine\n",
    "NeuroScan.load_ligands('mol2','Virodhamine.mol2')\n",
    "NeuroScan.write('pdb','CD48_Viro_dock.pdb')\n",
    "NeuroScan.write_csv('CD48_Viro_score.csv')\n",
    "#Nicotinamideadeninedinucleotide\n",
    "NeuroScan.load_ligands('mol2','Nicotinamideadeninedinucleotide.mol2')\n",
    "NeuroScan.write('pdb','CD48_Nico_dock.pdb')\n",
    "NeuroScan.write_csv('CD48_Nico_score.csv')\n",
    "#Bradykinin\n",
    "NeuroScan.load_ligands('mol2','Bradykinin.mol2')\n",
    "NeuroScan.write('pdb','CD48_Brad_dock.pdb')\n",
    "NeuroScan.write_csv('CD48_Brad_score.csv')\n",
    "#Urocortin\n",
    "NeuroScan.load_ligands('mol2','Urocortin.mol2')\n",
    "NeuroScan.write('pdb','CD48_Uroc_dock.pdb')\n",
    "NeuroScan.write_csv('CD48_Uroc_score.csv')\n",
    "#Gastrin\n",
    "NeuroScan.load_ligands('mol2','Gastrin.mol2')\n",
    "NeuroScan.write('pdb','CD48_Gast_dock.pdb')\n",
    "NeuroScan.write_csv('CD48_Gast_score.csv')\n",
    "#Cholecystokinin\n",
    "NeuroScan.load_ligands('mol2','Cholecystokinin.mol2')\n",
    "NeuroScan.write('pdb','CD48_Chol_dock.pdb')\n",
    "NeuroScan.write_csv('CD48_Chol_score.csv')\n",
    "#GHRP6\n",
    "NeuroScan.load_ligands('mol2','GHRP6.mol2')\n",
    "NeuroScan.write('pdb','CD48_GHRP6_dock.pdb')\n",
    "NeuroScan.write_csv('CD48_GHRP6_score.csv')\n",
    "#Somatostatin\n",
    "NeuroScan.load_ligands('mol2','Somatostatin.mol2')\n",
    "NeuroScan.write('pdb','CD48_Soma_dock.pdb')\n",
    "NeuroScan.write_csv('CD48_Soma_score.csv')\n",
    "#NeurokininA\n",
    "NeuroScan.load_ligands('mol2','NeurokininA.mol2')\n",
    "NeuroScan.write('pdb','CD48_NeuA_dock.pdb')\n",
    "NeuroScan.write_csv('CD48_NeuA_score.csv')\n",
    "#NeurokininB\n",
    "NeuroScan.load_ligands('mol2','NeurokininB.mol2')\n",
    "NeuroScan.write('pdb','CD48_NeuB_dock.pdb')\n",
    "NeuroScan.write_csv('CD48_NeuB_score.csv')\n",
    "#CD48 Ligand\n",
    "#Unable to Run\n",
    "#NeuroScan.load_ligands('pdb','CD48Ligand.pdb')\n",
    "#NeuroScan.write('pdb','CD48_CD48L_dock.pdb')\n",
    "#NeuroScan.write_csv('CD48_CD48L_score.csv')"
   ]
  },
  {
   "cell_type": "markdown",
   "metadata": {},
   "source": [
    "## Display Docking Score and Bonding Affinity"
   ]
  },
  {
   "cell_type": "markdown",
   "metadata": {},
   "source": [
    "## Plot Docked Ligands"
   ]
  },
  {
   "cell_type": "code",
   "execution_count": 43,
   "metadata": {},
   "outputs": [
    {
     "data": {
      "text/plain": [
       "Text(0.5, 0, 'y')"
      ]
     },
     "execution_count": 43,
     "metadata": {},
     "output_type": "execute_result"
    },
    {
     "data": {
      "image/png": "[encoded data removed]",
      "text/plain": [
       "<Figure size 432x288 with 1 Axes>"
      ]
     },
     "metadata": {
      "needs_background": "light"
     },
     "output_type": "display_data"
    }
   ],
   "source": [
    "mol = next(ot.toolkit.readfile('mol2', 'Ligand_Files/GHRP6.mol2'))                    \n",
    "mol2 = next(ot.toolkit.readfile('pdb', 'Receptor Files/CD38.pdb'))   \n",
    "fig = plt.figure()\n",
    "ax = fig.add_subplot(111, projection='3d')\n",
    "\n",
    "\n",
    "x=mol.coords[:,0]\n",
    "y=mol.coords[:,1]\n",
    "z=mol.coords[:,2]\n",
    "x1=mol2.coords[:,0]\n",
    "y1=mol2.coords[:,1]\n",
    "z1=mol2.coords[:,2]\n",
    "\n",
    "ax.scatter(x,y,z,c=\"red\")\n",
    "ax.scatter(x1,y1,z1,c=\"green\",s=1)\n",
    "ax.set_xlabel(\"x\")\n",
    "ax.set_ylabel(\"y\")"
   ]
  }
 ],
 "metadata": {
  "kernelspec": {
   "display_name": "Python 3",
   "language": "python",
   "name": "python3"
  },
  "language_info": {
   "codemirror_mode": {
    "name": "ipython",
    "version": 3
   },
   "file_extension": ".py",
   "mimetype": "text/x-python",
   "name": "python",
   "nbconvert_exporter": "python",
   "pygments_lexer": "ipython3",
   "version": "3.7.4"
  }
 },
 "nbformat": 4,
 "nbformat_minor": 4
}
